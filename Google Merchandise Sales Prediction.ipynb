{
 "cells": [
  {
   "cell_type": "code",
   "execution_count": 3,
   "metadata": {},
   "outputs": [],
   "source": [
    "import numpy as np\n",
    "import pandas as pd\n",
    "import matplotlib.pyplot as plt\n",
    "import seaborn as sns\n",
    "from sklearn.preprocessing import LabelEncoder"
   ]
  },
  {
   "cell_type": "code",
   "execution_count": 4,
   "metadata": {},
   "outputs": [
    {
     "name": "stderr",
     "output_type": "stream",
     "text": [
      "C:\\Users\\akash\\AppData\\Local\\Temp\\ipykernel_32948\\2741401212.py:1: DtypeWarning: Columns (0) have mixed types. Specify dtype option on import or set low_memory=False.\n",
      "  df=pd.read_csv(\"C:/Users/akash/Documents/data science/PROJECT/project_file.csv\")\n"
     ]
    }
   ],
   "source": [
    "df=pd.read_csv(\"C:/Users/akash/Documents/data science/PROJECT/project_file.csv\")"
   ]
  },
  {
   "cell_type": "code",
   "execution_count": 5,
   "metadata": {},
   "outputs": [
    {
     "data": {
      "text/html": [
       "<div>\n",
       "<style scoped>\n",
       "    .dataframe tbody tr th:only-of-type {\n",
       "        vertical-align: middle;\n",
       "    }\n",
       "\n",
       "    .dataframe tbody tr th {\n",
       "        vertical-align: top;\n",
       "    }\n",
       "\n",
       "    .dataframe thead th {\n",
       "        text-align: right;\n",
       "    }\n",
       "</style>\n",
       "<table border=\"1\" class=\"dataframe\">\n",
       "  <thead>\n",
       "    <tr style=\"text-align: right;\">\n",
       "      <th></th>\n",
       "      <th>fullVisitorId</th>\n",
       "      <th>visitStartTime</th>\n",
       "      <th>date</th>\n",
       "      <th>deviceCategory</th>\n",
       "      <th>isMobile</th>\n",
       "      <th>operatingSystem</th>\n",
       "      <th>browser</th>\n",
       "      <th>country</th>\n",
       "      <th>city</th>\n",
       "      <th>trafficSource</th>\n",
       "      <th>trafficMedium</th>\n",
       "      <th>trafficCampaign</th>\n",
       "      <th>isFirstVisit</th>\n",
       "      <th>totalVisits</th>\n",
       "      <th>totalHits</th>\n",
       "      <th>totalPageviews</th>\n",
       "      <th>totalTimeOnSite</th>\n",
       "      <th>productPagesViewed</th>\n",
       "      <th>addedToCart</th>\n",
       "    </tr>\n",
       "  </thead>\n",
       "  <tbody>\n",
       "    <tr>\n",
       "      <th>0</th>\n",
       "      <td>4214259466202417480</td>\n",
       "      <td>1476492957</td>\n",
       "      <td>2016-10-14 00:00:00+00:00</td>\n",
       "      <td>desktop</td>\n",
       "      <td>False</td>\n",
       "      <td>Windows</td>\n",
       "      <td>Internet Explorer</td>\n",
       "      <td>United States</td>\n",
       "      <td>not available in demo dataset</td>\n",
       "      <td>ask</td>\n",
       "      <td>organic</td>\n",
       "      <td>(not set)</td>\n",
       "      <td>0</td>\n",
       "      <td>1.0</td>\n",
       "      <td>2.0</td>\n",
       "      <td>2.0</td>\n",
       "      <td>16.0</td>\n",
       "      <td>0.0</td>\n",
       "      <td>0.0</td>\n",
       "    </tr>\n",
       "    <tr>\n",
       "      <th>1</th>\n",
       "      <td>3541738396641160713</td>\n",
       "      <td>1493611205</td>\n",
       "      <td>2017-04-30 00:00:00+00:00</td>\n",
       "      <td>desktop</td>\n",
       "      <td>False</td>\n",
       "      <td>Windows</td>\n",
       "      <td>Chrome</td>\n",
       "      <td>United States</td>\n",
       "      <td>not available in demo dataset</td>\n",
       "      <td>ask</td>\n",
       "      <td>organic</td>\n",
       "      <td>(not set)</td>\n",
       "      <td>0</td>\n",
       "      <td>1.0</td>\n",
       "      <td>1.0</td>\n",
       "      <td>1.0</td>\n",
       "      <td>0.0</td>\n",
       "      <td>0.0</td>\n",
       "      <td>0.0</td>\n",
       "    </tr>\n",
       "    <tr>\n",
       "      <th>2</th>\n",
       "      <td>8276557623242379934</td>\n",
       "      <td>1490071147</td>\n",
       "      <td>2017-03-20 00:00:00+00:00</td>\n",
       "      <td>desktop</td>\n",
       "      <td>False</td>\n",
       "      <td>Windows</td>\n",
       "      <td>Chrome</td>\n",
       "      <td>Australia</td>\n",
       "      <td>Brisbane</td>\n",
       "      <td>ask</td>\n",
       "      <td>organic</td>\n",
       "      <td>(not set)</td>\n",
       "      <td>0</td>\n",
       "      <td>1.0</td>\n",
       "      <td>2.0</td>\n",
       "      <td>2.0</td>\n",
       "      <td>16.0</td>\n",
       "      <td>0.0</td>\n",
       "      <td>0.0</td>\n",
       "    </tr>\n",
       "    <tr>\n",
       "      <th>3</th>\n",
       "      <td>5855313117666192014</td>\n",
       "      <td>1491048053</td>\n",
       "      <td>2017-04-01 00:00:00+00:00</td>\n",
       "      <td>desktop</td>\n",
       "      <td>False</td>\n",
       "      <td>Windows</td>\n",
       "      <td>Chrome</td>\n",
       "      <td>Australia</td>\n",
       "      <td>Sydney</td>\n",
       "      <td>ask</td>\n",
       "      <td>organic</td>\n",
       "      <td>(not set)</td>\n",
       "      <td>0</td>\n",
       "      <td>1.0</td>\n",
       "      <td>1.0</td>\n",
       "      <td>1.0</td>\n",
       "      <td>0.0</td>\n",
       "      <td>0.0</td>\n",
       "      <td>0.0</td>\n",
       "    </tr>\n",
       "    <tr>\n",
       "      <th>4</th>\n",
       "      <td>2619633492044211273</td>\n",
       "      <td>1495292376</td>\n",
       "      <td>2017-05-20 00:00:00+00:00</td>\n",
       "      <td>desktop</td>\n",
       "      <td>False</td>\n",
       "      <td>Windows</td>\n",
       "      <td>Chrome</td>\n",
       "      <td>United States</td>\n",
       "      <td>not available in demo dataset</td>\n",
       "      <td>ask</td>\n",
       "      <td>organic</td>\n",
       "      <td>(not set)</td>\n",
       "      <td>0</td>\n",
       "      <td>1.0</td>\n",
       "      <td>15.0</td>\n",
       "      <td>12.0</td>\n",
       "      <td>326.0</td>\n",
       "      <td>1.0</td>\n",
       "      <td>1.0</td>\n",
       "    </tr>\n",
       "  </tbody>\n",
       "</table>\n",
       "</div>"
      ],
      "text/plain": [
       "         fullVisitorId  visitStartTime                       date  \\\n",
       "0  4214259466202417480      1476492957  2016-10-14 00:00:00+00:00   \n",
       "1  3541738396641160713      1493611205  2017-04-30 00:00:00+00:00   \n",
       "2  8276557623242379934      1490071147  2017-03-20 00:00:00+00:00   \n",
       "3  5855313117666192014      1491048053  2017-04-01 00:00:00+00:00   \n",
       "4  2619633492044211273      1495292376  2017-05-20 00:00:00+00:00   \n",
       "\n",
       "  deviceCategory  isMobile operatingSystem            browser        country  \\\n",
       "0        desktop     False         Windows  Internet Explorer  United States   \n",
       "1        desktop     False         Windows             Chrome  United States   \n",
       "2        desktop     False         Windows             Chrome      Australia   \n",
       "3        desktop     False         Windows             Chrome      Australia   \n",
       "4        desktop     False         Windows             Chrome  United States   \n",
       "\n",
       "                            city trafficSource trafficMedium trafficCampaign  \\\n",
       "0  not available in demo dataset           ask       organic       (not set)   \n",
       "1  not available in demo dataset           ask       organic       (not set)   \n",
       "2                       Brisbane           ask       organic       (not set)   \n",
       "3                         Sydney           ask       organic       (not set)   \n",
       "4  not available in demo dataset           ask       organic       (not set)   \n",
       "\n",
       "   isFirstVisit  totalVisits  totalHits  totalPageviews  totalTimeOnSite  \\\n",
       "0             0          1.0        2.0             2.0             16.0   \n",
       "1             0          1.0        1.0             1.0              0.0   \n",
       "2             0          1.0        2.0             2.0             16.0   \n",
       "3             0          1.0        1.0             1.0              0.0   \n",
       "4             0          1.0       15.0            12.0            326.0   \n",
       "\n",
       "   productPagesViewed  addedToCart  \n",
       "0                 0.0          0.0  \n",
       "1                 0.0          0.0  \n",
       "2                 0.0          0.0  \n",
       "3                 0.0          0.0  \n",
       "4                 1.0          1.0  "
      ]
     },
     "execution_count": 5,
     "metadata": {},
     "output_type": "execute_result"
    }
   ],
   "source": [
    "df.head()"
   ]
  },
  {
   "cell_type": "code",
   "execution_count": 6,
   "metadata": {},
   "outputs": [
    {
     "data": {
      "text/html": [
       "<div>\n",
       "<style scoped>\n",
       "    .dataframe tbody tr th:only-of-type {\n",
       "        vertical-align: middle;\n",
       "    }\n",
       "\n",
       "    .dataframe tbody tr th {\n",
       "        vertical-align: top;\n",
       "    }\n",
       "\n",
       "    .dataframe thead th {\n",
       "        text-align: right;\n",
       "    }\n",
       "</style>\n",
       "<table border=\"1\" class=\"dataframe\">\n",
       "  <thead>\n",
       "    <tr style=\"text-align: right;\">\n",
       "      <th></th>\n",
       "      <th>fullVisitorId</th>\n",
       "      <th>visitStartTime</th>\n",
       "      <th>date</th>\n",
       "      <th>deviceCategory</th>\n",
       "      <th>isMobile</th>\n",
       "      <th>operatingSystem</th>\n",
       "      <th>browser</th>\n",
       "      <th>country</th>\n",
       "      <th>city</th>\n",
       "      <th>trafficSource</th>\n",
       "      <th>trafficMedium</th>\n",
       "      <th>trafficCampaign</th>\n",
       "      <th>isFirstVisit</th>\n",
       "      <th>totalVisits</th>\n",
       "      <th>totalHits</th>\n",
       "      <th>totalPageviews</th>\n",
       "      <th>totalTimeOnSite</th>\n",
       "      <th>productPagesViewed</th>\n",
       "      <th>addedToCart</th>\n",
       "    </tr>\n",
       "  </thead>\n",
       "  <tbody>\n",
       "    <tr>\n",
       "      <th>748129</th>\n",
       "      <td>994272213284505294</td>\n",
       "      <td>1496116252</td>\n",
       "      <td>2017-05-29 00:00:00+00:00</td>\n",
       "      <td>desktop</td>\n",
       "      <td>False</td>\n",
       "      <td>Windows</td>\n",
       "      <td>Internet Explorer</td>\n",
       "      <td>Canada</td>\n",
       "      <td>not available in demo dataset</td>\n",
       "      <td>facebook.com</td>\n",
       "      <td>referral</td>\n",
       "      <td>(not set)</td>\n",
       "      <td>1</td>\n",
       "      <td>1.0</td>\n",
       "      <td>6.0</td>\n",
       "      <td>5.0</td>\n",
       "      <td>73.0</td>\n",
       "      <td>0.0</td>\n",
       "      <td>1.0</td>\n",
       "    </tr>\n",
       "    <tr>\n",
       "      <th>748130</th>\n",
       "      <td>6781509645375926637</td>\n",
       "      <td>1493932934</td>\n",
       "      <td>2017-05-04 00:00:00+00:00</td>\n",
       "      <td>desktop</td>\n",
       "      <td>False</td>\n",
       "      <td>Windows</td>\n",
       "      <td>Chrome</td>\n",
       "      <td>Czechia</td>\n",
       "      <td>not available in demo dataset</td>\n",
       "      <td>facebook.com</td>\n",
       "      <td>referral</td>\n",
       "      <td>(not set)</td>\n",
       "      <td>1</td>\n",
       "      <td>1.0</td>\n",
       "      <td>18.0</td>\n",
       "      <td>10.0</td>\n",
       "      <td>164.0</td>\n",
       "      <td>4.0</td>\n",
       "      <td>1.0</td>\n",
       "    </tr>\n",
       "    <tr>\n",
       "      <th>748131</th>\n",
       "      <td>5906103536244457070</td>\n",
       "      <td>1477200977</td>\n",
       "      <td>2016-10-22 00:00:00+00:00</td>\n",
       "      <td>desktop</td>\n",
       "      <td>False</td>\n",
       "      <td>Macintosh</td>\n",
       "      <td>Chrome</td>\n",
       "      <td>United States</td>\n",
       "      <td>San Francisco</td>\n",
       "      <td>facebook.com</td>\n",
       "      <td>referral</td>\n",
       "      <td>(not set)</td>\n",
       "      <td>1</td>\n",
       "      <td>1.0</td>\n",
       "      <td>1.0</td>\n",
       "      <td>1.0</td>\n",
       "      <td>0.0</td>\n",
       "      <td>0.0</td>\n",
       "      <td>0.0</td>\n",
       "    </tr>\n",
       "    <tr>\n",
       "      <th>748132</th>\n",
       "      <td>530046090129326137</td>\n",
       "      <td>1487539544</td>\n",
       "      <td>2017-02-19 00:00:00+00:00</td>\n",
       "      <td>desktop</td>\n",
       "      <td>False</td>\n",
       "      <td>Macintosh</td>\n",
       "      <td>Firefox</td>\n",
       "      <td>United States</td>\n",
       "      <td>Nashville</td>\n",
       "      <td>facebook.com</td>\n",
       "      <td>referral</td>\n",
       "      <td>(not set)</td>\n",
       "      <td>1</td>\n",
       "      <td>1.0</td>\n",
       "      <td>1.0</td>\n",
       "      <td>1.0</td>\n",
       "      <td>0.0</td>\n",
       "      <td>0.0</td>\n",
       "      <td>0.0</td>\n",
       "    </tr>\n",
       "    <tr>\n",
       "      <th>748133</th>\n",
       "      <td>6144620538699663193</td>\n",
       "      <td>1487546705</td>\n",
       "      <td>2017-02-19 00:00:00+00:00</td>\n",
       "      <td>desktop</td>\n",
       "      <td>False</td>\n",
       "      <td>Macintosh</td>\n",
       "      <td>Safari</td>\n",
       "      <td>United States</td>\n",
       "      <td>not available in demo dataset</td>\n",
       "      <td>facebook.com</td>\n",
       "      <td>referral</td>\n",
       "      <td>(not set)</td>\n",
       "      <td>1</td>\n",
       "      <td>NaN</td>\n",
       "      <td>NaN</td>\n",
       "      <td>NaN</td>\n",
       "      <td>NaN</td>\n",
       "      <td>NaN</td>\n",
       "      <td>NaN</td>\n",
       "    </tr>\n",
       "  </tbody>\n",
       "</table>\n",
       "</div>"
      ],
      "text/plain": [
       "              fullVisitorId  visitStartTime                       date  \\\n",
       "748129   994272213284505294      1496116252  2017-05-29 00:00:00+00:00   \n",
       "748130  6781509645375926637      1493932934  2017-05-04 00:00:00+00:00   \n",
       "748131  5906103536244457070      1477200977  2016-10-22 00:00:00+00:00   \n",
       "748132   530046090129326137      1487539544  2017-02-19 00:00:00+00:00   \n",
       "748133  6144620538699663193      1487546705  2017-02-19 00:00:00+00:00   \n",
       "\n",
       "       deviceCategory  isMobile operatingSystem            browser  \\\n",
       "748129        desktop     False         Windows  Internet Explorer   \n",
       "748130        desktop     False         Windows             Chrome   \n",
       "748131        desktop     False       Macintosh             Chrome   \n",
       "748132        desktop     False       Macintosh            Firefox   \n",
       "748133        desktop     False       Macintosh             Safari   \n",
       "\n",
       "              country                           city trafficSource  \\\n",
       "748129         Canada  not available in demo dataset  facebook.com   \n",
       "748130        Czechia  not available in demo dataset  facebook.com   \n",
       "748131  United States                  San Francisco  facebook.com   \n",
       "748132  United States                      Nashville  facebook.com   \n",
       "748133  United States  not available in demo dataset  facebook.com   \n",
       "\n",
       "       trafficMedium trafficCampaign  isFirstVisit  totalVisits  totalHits  \\\n",
       "748129      referral       (not set)             1          1.0        6.0   \n",
       "748130      referral       (not set)             1          1.0       18.0   \n",
       "748131      referral       (not set)             1          1.0        1.0   \n",
       "748132      referral       (not set)             1          1.0        1.0   \n",
       "748133      referral       (not set)             1          NaN        NaN   \n",
       "\n",
       "        totalPageviews  totalTimeOnSite  productPagesViewed  addedToCart  \n",
       "748129             5.0             73.0                 0.0          1.0  \n",
       "748130            10.0            164.0                 4.0          1.0  \n",
       "748131             1.0              0.0                 0.0          0.0  \n",
       "748132             1.0              0.0                 0.0          0.0  \n",
       "748133             NaN              NaN                 NaN          NaN  "
      ]
     },
     "execution_count": 6,
     "metadata": {},
     "output_type": "execute_result"
    }
   ],
   "source": [
    "df.tail()"
   ]
  },
  {
   "cell_type": "code",
   "execution_count": 7,
   "metadata": {},
   "outputs": [
    {
     "data": {
      "text/html": [
       "<div>\n",
       "<style scoped>\n",
       "    .dataframe tbody tr th:only-of-type {\n",
       "        vertical-align: middle;\n",
       "    }\n",
       "\n",
       "    .dataframe tbody tr th {\n",
       "        vertical-align: top;\n",
       "    }\n",
       "\n",
       "    .dataframe thead th {\n",
       "        text-align: right;\n",
       "    }\n",
       "</style>\n",
       "<table border=\"1\" class=\"dataframe\">\n",
       "  <thead>\n",
       "    <tr style=\"text-align: right;\">\n",
       "      <th></th>\n",
       "      <th>visitStartTime</th>\n",
       "      <th>isFirstVisit</th>\n",
       "      <th>totalVisits</th>\n",
       "      <th>totalHits</th>\n",
       "      <th>totalPageviews</th>\n",
       "      <th>totalTimeOnSite</th>\n",
       "      <th>productPagesViewed</th>\n",
       "      <th>addedToCart</th>\n",
       "    </tr>\n",
       "  </thead>\n",
       "  <tbody>\n",
       "    <tr>\n",
       "      <th>count</th>\n",
       "      <td>7.481340e+05</td>\n",
       "      <td>748134.000000</td>\n",
       "      <td>748133.0</td>\n",
       "      <td>748133.000000</td>\n",
       "      <td>748133.000000</td>\n",
       "      <td>748133.000000</td>\n",
       "      <td>748133.000000</td>\n",
       "      <td>748133.000000</td>\n",
       "    </tr>\n",
       "    <tr>\n",
       "      <th>mean</th>\n",
       "      <td>1.482429e+09</td>\n",
       "      <td>0.776159</td>\n",
       "      <td>1.0</td>\n",
       "      <td>4.648589</td>\n",
       "      <td>3.887324</td>\n",
       "      <td>129.751052</td>\n",
       "      <td>0.409680</td>\n",
       "      <td>0.054742</td>\n",
       "    </tr>\n",
       "    <tr>\n",
       "      <th>std</th>\n",
       "      <td>7.305262e+06</td>\n",
       "      <td>0.416817</td>\n",
       "      <td>0.0</td>\n",
       "      <td>9.888969</td>\n",
       "      <td>7.205425</td>\n",
       "      <td>365.579472</td>\n",
       "      <td>1.771054</td>\n",
       "      <td>0.227475</td>\n",
       "    </tr>\n",
       "    <tr>\n",
       "      <th>min</th>\n",
       "      <td>1.470035e+09</td>\n",
       "      <td>0.000000</td>\n",
       "      <td>1.0</td>\n",
       "      <td>1.000000</td>\n",
       "      <td>0.000000</td>\n",
       "      <td>0.000000</td>\n",
       "      <td>0.000000</td>\n",
       "      <td>0.000000</td>\n",
       "    </tr>\n",
       "    <tr>\n",
       "      <th>25%</th>\n",
       "      <td>1.476724e+09</td>\n",
       "      <td>1.000000</td>\n",
       "      <td>1.0</td>\n",
       "      <td>1.000000</td>\n",
       "      <td>1.000000</td>\n",
       "      <td>0.000000</td>\n",
       "      <td>0.000000</td>\n",
       "      <td>0.000000</td>\n",
       "    </tr>\n",
       "    <tr>\n",
       "      <th>50%</th>\n",
       "      <td>1.481151e+09</td>\n",
       "      <td>1.000000</td>\n",
       "      <td>1.0</td>\n",
       "      <td>2.000000</td>\n",
       "      <td>2.000000</td>\n",
       "      <td>2.000000</td>\n",
       "      <td>0.000000</td>\n",
       "      <td>0.000000</td>\n",
       "    </tr>\n",
       "    <tr>\n",
       "      <th>75%</th>\n",
       "      <td>1.488713e+09</td>\n",
       "      <td>1.000000</td>\n",
       "      <td>1.0</td>\n",
       "      <td>4.000000</td>\n",
       "      <td>4.000000</td>\n",
       "      <td>82.000000</td>\n",
       "      <td>0.000000</td>\n",
       "      <td>0.000000</td>\n",
       "    </tr>\n",
       "    <tr>\n",
       "      <th>max</th>\n",
       "      <td>1.496300e+09</td>\n",
       "      <td>1.000000</td>\n",
       "      <td>1.0</td>\n",
       "      <td>500.000000</td>\n",
       "      <td>469.000000</td>\n",
       "      <td>19017.000000</td>\n",
       "      <td>168.000000</td>\n",
       "      <td>1.000000</td>\n",
       "    </tr>\n",
       "  </tbody>\n",
       "</table>\n",
       "</div>"
      ],
      "text/plain": [
       "       visitStartTime   isFirstVisit  totalVisits      totalHits  \\\n",
       "count    7.481340e+05  748134.000000     748133.0  748133.000000   \n",
       "mean     1.482429e+09       0.776159          1.0       4.648589   \n",
       "std      7.305262e+06       0.416817          0.0       9.888969   \n",
       "min      1.470035e+09       0.000000          1.0       1.000000   \n",
       "25%      1.476724e+09       1.000000          1.0       1.000000   \n",
       "50%      1.481151e+09       1.000000          1.0       2.000000   \n",
       "75%      1.488713e+09       1.000000          1.0       4.000000   \n",
       "max      1.496300e+09       1.000000          1.0     500.000000   \n",
       "\n",
       "       totalPageviews  totalTimeOnSite  productPagesViewed    addedToCart  \n",
       "count   748133.000000    748133.000000       748133.000000  748133.000000  \n",
       "mean         3.887324       129.751052            0.409680       0.054742  \n",
       "std          7.205425       365.579472            1.771054       0.227475  \n",
       "min          0.000000         0.000000            0.000000       0.000000  \n",
       "25%          1.000000         0.000000            0.000000       0.000000  \n",
       "50%          2.000000         2.000000            0.000000       0.000000  \n",
       "75%          4.000000        82.000000            0.000000       0.000000  \n",
       "max        469.000000     19017.000000          168.000000       1.000000  "
      ]
     },
     "execution_count": 7,
     "metadata": {},
     "output_type": "execute_result"
    }
   ],
   "source": [
    "df.describe()"
   ]
  },
  {
   "cell_type": "code",
   "execution_count": 8,
   "metadata": {},
   "outputs": [
    {
     "data": {
      "text/plain": [
       "fullVisitorId          object\n",
       "visitStartTime          int64\n",
       "date                   object\n",
       "deviceCategory         object\n",
       "isMobile                 bool\n",
       "operatingSystem        object\n",
       "browser                object\n",
       "country                object\n",
       "city                   object\n",
       "trafficSource          object\n",
       "trafficMedium          object\n",
       "trafficCampaign        object\n",
       "isFirstVisit            int64\n",
       "totalVisits           float64\n",
       "totalHits             float64\n",
       "totalPageviews        float64\n",
       "totalTimeOnSite       float64\n",
       "productPagesViewed    float64\n",
       "addedToCart           float64\n",
       "dtype: object"
      ]
     },
     "execution_count": 8,
     "metadata": {},
     "output_type": "execute_result"
    }
   ],
   "source": [
    "df.dtypes"
   ]
  },
  {
   "cell_type": "code",
   "execution_count": 9,
   "metadata": {},
   "outputs": [
    {
     "data": {
      "text/plain": [
       "fullVisitorId         0\n",
       "visitStartTime        0\n",
       "date                  0\n",
       "deviceCategory        0\n",
       "isMobile              0\n",
       "operatingSystem       0\n",
       "browser               0\n",
       "country               0\n",
       "city                  0\n",
       "trafficSource         0\n",
       "trafficMedium         0\n",
       "trafficCampaign       0\n",
       "isFirstVisit          0\n",
       "totalVisits           1\n",
       "totalHits             1\n",
       "totalPageviews        1\n",
       "totalTimeOnSite       1\n",
       "productPagesViewed    1\n",
       "addedToCart           1\n",
       "dtype: int64"
      ]
     },
     "execution_count": 9,
     "metadata": {},
     "output_type": "execute_result"
    }
   ],
   "source": [
    "df.isna().sum()"
   ]
  },
  {
   "cell_type": "code",
   "execution_count": 10,
   "metadata": {},
   "outputs": [],
   "source": [
    "columns_to_clean = ['isFirstVisit', 'totalVisits', 'totalHits', 'totalPageviews', 'totalTimeOnSite', 'productPagesViewed']\n",
    "\n",
    "# Mark outliers as NaN for totalVisits column\n",
    "Q1 = df['totalVisits'].quantile(0.25)\n",
    "Q3 = df['totalVisits'].quantile(0.75)\n",
    "IQR = Q3 - Q1\n",
    "lower_bound = Q1 - 1.5 * IQR\n",
    "upper_bound = Q3 + 1.5 * IQR\n",
    "df.loc[(df['totalVisits'] < lower_bound) | (df['totalVisits'] > upper_bound), 'totalVisits'] = np.nan\n",
    "\n",
    "# Mark outliers as NaN for totalHits column\n",
    "Q1 = df['totalHits'].quantile(0.25)\n",
    "Q3 = df['totalHits'].quantile(0.75)\n",
    "IQR = Q3 - Q1\n",
    "lower_bound = Q1 - 1.5 * IQR\n",
    "upper_bound = Q3 + 1.5 * IQR\n",
    "df.loc[(df['totalHits'] < lower_bound) | (df['totalHits'] > upper_bound), 'totalHits'] = np.nan\n",
    "\n",
    "# Mark outliers as NaN for totalPageviews column\n",
    "Q1 = df['totalPageviews'].quantile(0.25)\n",
    "Q3 = df['totalPageviews'].quantile(0.75)\n",
    "IQR = Q3 - Q1\n",
    "lower_bound = Q1 - 1.5 * IQR\n",
    "upper_bound = Q3 + 1.5 * IQR\n",
    "df.loc[(df['totalPageviews'] < lower_bound) | (df['totalPageviews'] > upper_bound), 'totalPageviews'] = np.nan\n",
    "\n",
    "# Mark outliers as NaN for totalTimeOnSite column\n",
    "Q1 = df['totalTimeOnSite'].quantile(0.25)\n",
    "Q3 = df['totalTimeOnSite'].quantile(0.75)\n",
    "IQR = Q3 - Q1\n",
    "lower_bound = Q1 - 1.5 * IQR\n",
    "upper_bound = Q3 + 1.5 * IQR\n",
    "df.loc[(df['totalTimeOnSite'] < lower_bound) | (df['totalTimeOnSite'] > upper_bound), 'totalTimeOnSite'] = np.nan\n",
    "\n",
    "# Mark outliers as NaN for productPagesViewed column\n",
    "Q1 = df['productPagesViewed'].quantile(0.25)\n",
    "Q3 = df['productPagesViewed'].quantile(0.75)\n",
    "IQR = Q3 - Q1\n",
    "lower_bound = Q1 - 1.5 * IQR\n",
    "upper_bound = Q3 + 1.5 * IQR\n",
    "df.loc[(df['productPagesViewed'] < lower_bound) | (df['productPagesViewed'] > upper_bound), 'productPagesViewed'] = np.nan"
   ]
  },
  {
   "cell_type": "code",
   "execution_count": 11,
   "metadata": {},
   "outputs": [],
   "source": [
    "df['totalVisits']=df['totalVisits'].fillna(df['totalVisits'].median())\n",
    "df['totalHits']=df['totalHits'].fillna(df['totalHits'].median())\n",
    "df['totalPageviews']=df['totalPageviews'].fillna(df['totalPageviews'].median())\n",
    "df['totalTimeOnSite']=df['totalTimeOnSite'].fillna(df['totalTimeOnSite'].median())\n",
    "df['productPagesViewed']=df['productPagesViewed'].fillna(df['productPagesViewed'].median())"
   ]
  },
  {
   "cell_type": "code",
   "execution_count": 12,
   "metadata": {},
   "outputs": [
    {
     "data": {
      "text/plain": [
       "deviceCategory\n",
       "desktop    561479\n",
       "mobile     162440\n",
       "tablet      24215\n",
       "Name: count, dtype: int64"
      ]
     },
     "execution_count": 12,
     "metadata": {},
     "output_type": "execute_result"
    }
   ],
   "source": [
    "df['deviceCategory'].value_counts()"
   ]
  },
  {
   "cell_type": "code",
   "execution_count": 13,
   "metadata": {},
   "outputs": [
    {
     "data": {
      "text/plain": [
       "<Axes: xlabel='deviceCategory', ylabel='count'>"
      ]
     },
     "execution_count": 13,
     "metadata": {},
     "output_type": "execute_result"
    },
    {
     "data": {
      "image/png": "[encoded data removed]",
      "text/plain": [
       "<Figure size 640x480 with 1 Axes>"
      ]
     },
     "metadata": {},
     "output_type": "display_data"
    }
   ],
   "source": [
    "sns.countplot(x='deviceCategory',data=df)"
   ]
  },
  {
   "cell_type": "code",
   "execution_count": 14,
   "metadata": {},
   "outputs": [
    {
     "data": {
      "text/plain": [
       "<Axes: xlabel='isMobile', ylabel='count'>"
      ]
     },
     "execution_count": 14,
     "metadata": {},
     "output_type": "execute_result"
    },
    {
     "data": {
      "image/png": "[encoded data removed]",
      "text/plain": [
       "<Figure size 640x480 with 1 Axes>"
      ]
     },
     "metadata": {},
     "output_type": "display_data"
    }
   ],
   "source": [
    "sns.countplot(x=df['isMobile'],data=df)"
   ]
  },
  {
   "cell_type": "code",
   "execution_count": 15,
   "metadata": {},
   "outputs": [
    {
     "data": {
      "text/plain": [
       "<Axes: xlabel='count', ylabel='operatingSystem'>"
      ]
     },
     "execution_count": 15,
     "metadata": {},
     "output_type": "execute_result"
    },
    {
     "data": {
      "image/png": "[encoded data removed]",
      "text/plain": [
       "<Figure size 640x480 with 1 Axes>"
      ]
     },
     "metadata": {},
     "output_type": "display_data"
    }
   ],
   "source": [
    "sns.countplot(y='operatingSystem',data=df)"
   ]
  },
  {
   "cell_type": "code",
   "execution_count": 16,
   "metadata": {},
   "outputs": [
    {
     "data": {
      "text/plain": [
       "operatingSystem\n",
       "Windows          294856\n",
       "Macintosh        217946\n",
       "Android           98237\n",
       "iOS               81964\n",
       "Linux             28243\n",
       "Chrome OS         21240\n",
       "(not set)          3852\n",
       "Windows Phone      1103\n",
       "Samsung             214\n",
       "BlackBerry          190\n",
       "Nintendo Wii        100\n",
       "Firefox OS           88\n",
       "Xbox                 57\n",
       "Nintendo WiiU        30\n",
       "FreeBSD               8\n",
       "OpenBSD               2\n",
       "Nokia                 2\n",
       "SunOS                 1\n",
       "Nintendo 3DS          1\n",
       "Name: count, dtype: int64"
      ]
     },
     "execution_count": 16,
     "metadata": {},
     "output_type": "execute_result"
    }
   ],
   "source": [
    "df['operatingSystem'].value_counts()"
   ]
  },
  {
   "cell_type": "code",
   "execution_count": 17,
   "metadata": {},
   "outputs": [
    {
     "data": {
      "text/plain": [
       "operatingSystem\n",
       "Windows      294856\n",
       "Macintosh    217946\n",
       "Android       98237\n",
       "iOS           81964\n",
       "Linux         28243\n",
       "Chrome OS     21240\n",
       "(not set)      3852\n",
       "others         1796\n",
       "Name: count, dtype: int64"
      ]
     },
     "execution_count": 17,
     "metadata": {},
     "output_type": "execute_result"
    }
   ],
   "source": [
    "system_counts=df['operatingSystem'].value_counts()\n",
    "system_counts_threshold=2500\n",
    "low_count_systems=system_counts[system_counts<system_counts_threshold].index\n",
    "df['operatingSystem']=df['operatingSystem'].apply(lambda x:'others' if\n",
    "x in low_count_systems else x)\n",
    "df['operatingSystem'].value_counts()"
   ]
  },
  {
   "cell_type": "code",
   "execution_count": 18,
   "metadata": {},
   "outputs": [
    {
     "name": "stderr",
     "output_type": "stream",
     "text": [
      "C:\\Users\\akash\\AppData\\Local\\Temp\\ipykernel_32948\\93239380.py:1: FutureWarning: A value is trying to be set on a copy of a DataFrame or Series through chained assignment using an inplace method.\n",
      "The behavior will change in pandas 3.0. This inplace method will never work because the intermediate object on which we are setting values always behaves as a copy.\n",
      "\n",
      "For example, when doing 'df[col].method(value, inplace=True)', try using 'df.method({col: value}, inplace=True)' or df[col] = df[col].method(value) instead, to perform the operation inplace on the original object.\n",
      "\n",
      "\n",
      "  df['operatingSystem'].replace('(not set)', np.nan, inplace=True)\n"
     ]
    }
   ],
   "source": [
    "df['operatingSystem'].replace('(not set)', np.nan, inplace=True)"
   ]
  },
  {
   "cell_type": "code",
   "execution_count": 19,
   "metadata": {},
   "outputs": [
    {
     "data": {
      "text/plain": [
       "<Axes: xlabel='count', ylabel='operatingSystem'>"
      ]
     },
     "execution_count": 19,
     "metadata": {},
     "output_type": "execute_result"
    },
    {
     "data": {
      "image/png": "[encoded data removed]",
      "text/plain": [
       "<Figure size 640x480 with 1 Axes>"
      ]
     },
     "metadata": {},
     "output_type": "display_data"
    }
   ],
   "source": [
    "sns.countplot(y='operatingSystem',data=df)"
   ]
  },
  {
   "cell_type": "code",
   "execution_count": 20,
   "metadata": {},
   "outputs": [
    {
     "data": {
      "text/plain": [
       "array(['Windows', 'iOS', 'Linux', 'Android', 'Chrome OS', 'Macintosh',\n",
       "       'others', nan], dtype=object)"
      ]
     },
     "execution_count": 20,
     "metadata": {},
     "output_type": "execute_result"
    }
   ],
   "source": [
    "df['operatingSystem'].unique()"
   ]
  },
  {
   "cell_type": "code",
   "execution_count": 21,
   "metadata": {},
   "outputs": [
    {
     "data": {
      "text/plain": [
       "<Axes: xlabel='count', ylabel='browser'>"
      ]
     },
     "execution_count": 21,
     "metadata": {},
     "output_type": "execute_result"
    },
    {
     "data": {
      "image/png": "[encoded data removed]",
      "text/plain": [
       "<Figure size 640x480 with 1 Axes>"
      ]
     },
     "metadata": {},
     "output_type": "display_data"
    }
   ],
   "source": [
    "sns.countplot(y=df['browser'],data=df)"
   ]
  },
  {
   "cell_type": "code",
   "execution_count": 22,
   "metadata": {},
   "outputs": [
    {
     "data": {
      "text/plain": [
       "browser\n",
       "Chrome                        510349\n",
       "Safari                        155569\n",
       "Firefox                        30592\n",
       "Internet Explorer              16429\n",
       "Edge                            8227\n",
       "Android Webview                 5582\n",
       "Opera                           5033\n",
       "Opera Mini                      4999\n",
       "Safari (in-app)                 4613\n",
       "YaBrowser                       1909\n",
       "UC Browser                      1904\n",
       "Coc Coc                          634\n",
       "Amazon Silk                      483\n",
       "Android Browser                  469\n",
       "Mozilla Compatible Agent         311\n",
       "MRCHROME                         253\n",
       "Maxthon                          204\n",
       "BlackBerry                       165\n",
       "Nintendo Browser                 135\n",
       "Puffin                            77\n",
       "Nokia Browser                     60\n",
       "Iron                              30\n",
       "LYF_LS_4002_12                    21\n",
       "SeaMonkey                         12\n",
       "Seznam                            10\n",
       "Mozilla                            9\n",
       "Nichrome                           7\n",
       "Lunascape                          5\n",
       "(not set)                          5\n",
       "DASH_JR_3G                         4\n",
       "osee2unifiedRelease                4\n",
       "Apple-iPhone7C2                    4\n",
       "no-ua                              3\n",
       "ThumbSniper                        3\n",
       "LYF_LS_4002_11                     3\n",
       "MQQBrowser                         2\n",
       "YE                                 2\n",
       "NokiaE52-1                         2\n",
       "M5                                 1\n",
       "User Agent                         1\n",
       "Konqueror                          1\n",
       "Hisense M20-M_LTE                  1\n",
       "ADM                                1\n",
       "HTC802t_TD                         1\n",
       "Android Runtime                    1\n",
       "subjectAgent: NoticiasBoom         1\n",
       "Reddit                             1\n",
       "TCL P500M                          1\n",
       "CSM Click                          1\n",
       "Name: count, dtype: int64"
      ]
     },
     "execution_count": 22,
     "metadata": {},
     "output_type": "execute_result"
    }
   ],
   "source": [
    "df['browser'].value_counts()"
   ]
  },
  {
   "cell_type": "code",
   "execution_count": 23,
   "metadata": {},
   "outputs": [],
   "source": [
    "df['browser']=df['browser'].replace('(not set)',np.nan)"
   ]
  },
  {
   "cell_type": "code",
   "execution_count": 24,
   "metadata": {},
   "outputs": [
    {
     "data": {
      "text/plain": [
       "browser\n",
       "Chrome               510349\n",
       "Safari               155569\n",
       "Firefox               30592\n",
       "Internet Explorer     16429\n",
       "Edge                   8227\n",
       "Android Webview        5582\n",
       "Opera                  5033\n",
       "Opera Mini             4999\n",
       "Safari (in-app)        4613\n",
       "others                 2923\n",
       "YaBrowser              1909\n",
       "UC Browser             1904\n",
       "Name: count, dtype: int64"
      ]
     },
     "execution_count": 24,
     "metadata": {},
     "output_type": "execute_result"
    }
   ],
   "source": [
    "browser_counts=df['browser'].value_counts()\n",
    "browser_counts_threshold=1000\n",
    "low_count_browsers=browser_counts[browser_counts<browser_counts_threshold].index\n",
    "df['browser']=df['browser'].apply(lambda x:'others' if x in\n",
    "low_count_browsers else x)\n",
    "df['browser'].value_counts()"
   ]
  },
  {
   "cell_type": "code",
   "execution_count": 25,
   "metadata": {},
   "outputs": [
    {
     "data": {
      "text/plain": [
       "array(['Internet Explorer', 'Chrome', 'Safari', 'Firefox', 'others',\n",
       "       'Safari (in-app)', 'Edge', 'Android Webview', 'Opera',\n",
       "       'UC Browser', 'Opera Mini', 'YaBrowser', nan], dtype=object)"
      ]
     },
     "execution_count": 25,
     "metadata": {},
     "output_type": "execute_result"
    }
   ],
   "source": [
    "df['browser'].unique()"
   ]
  },
  {
   "cell_type": "code",
   "execution_count": 26,
   "metadata": {},
   "outputs": [
    {
     "data": {
      "text/plain": [
       "<Axes: xlabel='count', ylabel='browser'>"
      ]
     },
     "execution_count": 26,
     "metadata": {},
     "output_type": "execute_result"
    },
    {
     "data": {
      "image/png": "[encoded data removed]",
      "text/plain": [
       "<Figure size 640x480 with 1 Axes>"
      ]
     },
     "metadata": {},
     "output_type": "display_data"
    }
   ],
   "source": [
    "sns.countplot(y=df['browser'],data=df)"
   ]
  },
  {
   "cell_type": "code",
   "execution_count": 27,
   "metadata": {},
   "outputs": [
    {
     "data": {
      "text/plain": [
       "<Axes: xlabel='country', ylabel='count'>"
      ]
     },
     "execution_count": 27,
     "metadata": {},
     "output_type": "execute_result"
    },
    {
     "data": {
      "image/png": "[encoded data removed]",
      "text/plain": [
       "<Figure size 640x480 with 1 Axes>"
      ]
     },
     "metadata": {},
     "output_type": "display_data"
    }
   ],
   "source": [
    "sns.countplot(x=df['country'],data=df)"
   ]
  },
  {
   "cell_type": "code",
   "execution_count": 28,
   "metadata": {},
   "outputs": [
    {
     "data": {
      "text/plain": [
       "array(['United States', 'Australia', 'Italy', 'Malaysia', 'Canada',\n",
       "       'Japan', 'Philippines', 'United Kingdom', 'Brazil', 'Ireland',\n",
       "       'New Zealand', 'Singapore', 'India', 'Germany', 'Argentina',\n",
       "       'Indonesia', 'Mexico', 'Switzerland', 'Hong Kong', 'Netherlands',\n",
       "       'Finland', 'France', 'Spain', 'Sweden', 'South Africa', 'Turkey',\n",
       "       'Poland', 'South Korea', 'Puerto Rico', 'China', 'Bulgaria',\n",
       "       'Greece', 'United Arab Emirates', 'Belgium', 'Portugal', 'Denmark',\n",
       "       'Ecuador', 'Chile', 'Colombia', 'Russia', 'Serbia', '(not set)',\n",
       "       'Taiwan', 'Thailand', 'Vietnam', 'Romania', 'Nigeria', 'Croatia',\n",
       "       'Norway', 'Estonia', 'Hungary', 'Egypt', 'Ukraine',\n",
       "       'U.S. Virgin Islands', 'Slovakia', 'Pakistan', 'Bahrain',\n",
       "       'Lithuania', 'Czechia', 'Saudi Arabia', 'Peru', 'Israel',\n",
       "       'Macedonia (FYROM)', 'Venezuela', 'Cyprus', 'Costa Rica',\n",
       "       'El Salvador', 'Honduras', 'Austria', 'Kazakhstan', 'Palestine',\n",
       "       'Georgia', 'Moldova', 'Ghana', 'Kenya', 'Bolivia', 'Sri Lanka',\n",
       "       'Morocco', 'Trinidad & Tobago', 'Dominican Republic', 'Kosovo',\n",
       "       'Latvia', 'Bangladesh', 'Jordan', 'Guam', 'Tunisia', 'Qatar',\n",
       "       'Mozambique', 'Uganda', 'Uruguay', 'Angola', 'Togo', 'Iraq',\n",
       "       'Bermuda', 'Algeria', 'Nepal', 'Belarus', 'Ethiopia', 'Slovenia',\n",
       "       'Lebanon', 'Cambodia', 'Mauritius', 'Malta', 'Myanmar (Burma)',\n",
       "       'Guernsey', 'Panama', 'Aruba', 'Bosnia & Herzegovina', 'Kuwait',\n",
       "       'Réunion', 'Tanzania', 'St. Lucia', 'Armenia', 'Côte d’Ivoire',\n",
       "       'Monaco', 'Bahamas', 'Jersey', 'Liechtenstein', 'Guatemala',\n",
       "       'Nicaragua', 'Uzbekistan', 'Zambia', 'Luxembourg', 'Gabon',\n",
       "       'Afghanistan', 'Iran', 'Jamaica', 'Montenegro', 'Azerbaijan',\n",
       "       'Mauritania', 'Faroe Islands', 'Laos', 'Maldives', 'Mongolia',\n",
       "       'Sint Maarten', 'Namibia', 'Macau', 'Iceland', 'Congo - Kinshasa',\n",
       "       'New Caledonia', 'Oman', 'Barbados', 'Paraguay', 'Martinique',\n",
       "       'Libya', 'Cameroon', 'Albania', 'Zimbabwe', 'Guinea-Bissau',\n",
       "       'Belize', 'Djibouti', 'Grenada', 'Papua New Guinea', 'Fiji',\n",
       "       'Brunei', 'Benin', 'Yemen', 'Haiti', 'Timor-Leste', 'Suriname',\n",
       "       'Chad', 'Andorra', 'Burkina Faso', 'Rwanda', 'Senegal', 'Gambia',\n",
       "       'Guyana', 'Cape Verde', 'Sudan', 'Kyrgyzstan', 'Mali', 'Liberia',\n",
       "       'Madagascar', 'Guadeloupe', 'Seychelles', 'Swaziland',\n",
       "       'Cook Islands', 'St. Kitts & Nevis', 'Bhutan', 'Botswana',\n",
       "       'Cayman Islands', 'Curaçao', 'Norfolk Island', 'French Guiana',\n",
       "       'Northern Mariana Islands', 'French Polynesia', 'Mayotte',\n",
       "       'Guinea', 'Niger', 'Isle of Man', 'Vanuatu', 'Gibraltar',\n",
       "       'St. Vincent & Grenadines', 'Turkmenistan',\n",
       "       'Turks & Caicos Islands', 'St. Martin', 'São Tomé & Príncipe',\n",
       "       'Somalia', 'Tajikistan', 'Lesotho', 'Anguilla', 'Burundi', 'Syria',\n",
       "       'Malawi', 'Equatorial Guinea', 'Caribbean Netherlands',\n",
       "       'Antigua & Barbuda', 'San Marino', 'British Virgin Islands',\n",
       "       'St. Pierre & Miquelon', 'Dominica', 'Central African Republic',\n",
       "       'Sierra Leone', 'Marshall Islands', 'Congo - Brazzaville',\n",
       "       'Greenland', 'Comoros', 'American Samoa'], dtype=object)"
      ]
     },
     "execution_count": 28,
     "metadata": {},
     "output_type": "execute_result"
    }
   ],
   "source": [
    "df['country'].unique()"
   ]
  },
  {
   "cell_type": "code",
   "execution_count": 29,
   "metadata": {},
   "outputs": [
    {
     "data": {
      "text/plain": [
       "country\n",
       "United States          293533\n",
       "India                   41166\n",
       "United Kingdom          29319\n",
       "Vietnam                 23801\n",
       "Canada                  20719\n",
       "                        ...  \n",
       "São Tomé & Príncipe         1\n",
       "St. Martin                  1\n",
       "Congo - Brazzaville         1\n",
       "Norfolk Island              1\n",
       "American Samoa              1\n",
       "Name: count, Length: 218, dtype: int64"
      ]
     },
     "execution_count": 29,
     "metadata": {},
     "output_type": "execute_result"
    }
   ],
   "source": [
    "df['country'].value_counts()"
   ]
  },
  {
   "cell_type": "code",
   "execution_count": 30,
   "metadata": {},
   "outputs": [
    {
     "data": {
      "text/plain": [
       "country\n",
       "United States     293533\n",
       "others            121989\n",
       "India              41166\n",
       "United Kingdom     29319\n",
       "Vietnam            23801\n",
       "Canada             20719\n",
       "Turkey             19515\n",
       "Thailand           19268\n",
       "Brazil             17743\n",
       "Germany            16409\n",
       "Japan              15460\n",
       "France             12695\n",
       "Mexico             11617\n",
       "Russia             10184\n",
       "Australia           9883\n",
       "Taiwan              9852\n",
       "Netherlands         9462\n",
       "Spain               9261\n",
       "Italy               9235\n",
       "Poland              8392\n",
       "Philippines         8195\n",
       "Indonesia           8170\n",
       "Romania             5940\n",
       "Singapore           5614\n",
       "Malaysia            5377\n",
       "Ireland             5335\n",
       "Name: count, dtype: int64"
      ]
     },
     "execution_count": 30,
     "metadata": {},
     "output_type": "execute_result"
    }
   ],
   "source": [
    "country_counts=df['country'].value_counts()\n",
    "country_counts_threshold=5000\n",
    "low_count_countries=country_counts[country_counts<country_counts_threshold].index\n",
    "df['country']=df['country'].apply(lambda x:'others' if x in\n",
    "low_count_countries else x)\n",
    "df['country'].value_counts()\n",
    "#label encoding"
   ]
  },
  {
   "cell_type": "code",
   "execution_count": 31,
   "metadata": {},
   "outputs": [
    {
     "data": {
      "text/plain": [
       "array(['United States', 'Australia', 'Italy', 'Malaysia', 'Canada',\n",
       "       'Japan', 'Philippines', 'United Kingdom', 'Brazil', 'Ireland',\n",
       "       'others', 'Singapore', 'India', 'Germany', 'Indonesia', 'Mexico',\n",
       "       'Netherlands', 'France', 'Spain', 'Turkey', 'Poland', 'Russia',\n",
       "       'Taiwan', 'Thailand', 'Vietnam', 'Romania'], dtype=object)"
      ]
     },
     "execution_count": 31,
     "metadata": {},
     "output_type": "execute_result"
    }
   ],
   "source": [
    "df['country'].unique()"
   ]
  },
  {
   "cell_type": "code",
   "execution_count": 32,
   "metadata": {},
   "outputs": [
    {
     "data": {
      "text/plain": [
       "city\n",
       "not available in demo dataset    422376\n",
       "Mountain View                     33182\n",
       "(not set)                         28205\n",
       "New York                          21401\n",
       "San Francisco                     16250\n",
       "                                  ...  \n",
       "Pescara                               4\n",
       "Bozeman                               3\n",
       "Boise                                 2\n",
       "Chisinau                              2\n",
       "Neipu Township                        2\n",
       "Name: count, Length: 615, dtype: int64"
      ]
     },
     "execution_count": 32,
     "metadata": {},
     "output_type": "execute_result"
    }
   ],
   "source": [
    "df['city'].value_counts()\n",
    "#drop\n"
   ]
  },
  {
   "cell_type": "code",
   "execution_count": 33,
   "metadata": {},
   "outputs": [
    {
     "data": {
      "text/plain": [
       "trafficSource\n",
       "(direct)                       311921\n",
       "youtube.com                    204233\n",
       "google                         184922\n",
       "Partners                        13258\n",
       "analytics.google.com             5487\n",
       "                                ...  \n",
       "web.skype.com                       1\n",
       "wap.sogou.com                       1\n",
       "hosted.verticalresponse.com         1\n",
       "google.com.tw                       1\n",
       "msn                                 1\n",
       "Name: count, Length: 180, dtype: int64"
      ]
     },
     "execution_count": 33,
     "metadata": {},
     "output_type": "execute_result"
    }
   ],
   "source": [
    "df['trafficSource'].value_counts()"
   ]
  },
  {
   "cell_type": "code",
   "execution_count": 34,
   "metadata": {},
   "outputs": [
    {
     "data": {
      "text/plain": [
       "trafficSource\n",
       "(direct)       311921\n",
       "youtube.com    204233\n",
       "google         184922\n",
       "others          33800\n",
       "Partners        13258\n",
       "Name: count, dtype: int64"
      ]
     },
     "execution_count": 34,
     "metadata": {},
     "output_type": "execute_result"
    }
   ],
   "source": [
    "traffic_counts=df['trafficSource'].value_counts()\n",
    "traffic_counts_threshold=5500\n",
    "low_count_traffics=traffic_counts[traffic_counts<traffic_counts_threshold].index\n",
    "df['trafficSource']=df['trafficSource'].apply(lambda x:'others' if x\n",
    "in low_count_traffics else x)\n",
    "df['trafficSource'].value_counts()\n"
   ]
  },
  {
   "cell_type": "code",
   "execution_count": 35,
   "metadata": {},
   "outputs": [
    {
     "data": {
      "text/plain": [
       "<Axes: xlabel='trafficSource', ylabel='count'>"
      ]
     },
     "execution_count": 35,
     "metadata": {},
     "output_type": "execute_result"
    },
    {
     "data": {
      "image/png": "[encoded data removed]",
      "text/plain": [
       "<Figure size 640x480 with 1 Axes>"
      ]
     },
     "metadata": {},
     "output_type": "display_data"
    }
   ],
   "source": [
    "sns.countplot(x=df['trafficSource'],data=df)"
   ]
  },
  {
   "cell_type": "code",
   "execution_count": 36,
   "metadata": {},
   "outputs": [
    {
     "data": {
      "text/plain": [
       "array(['others', 'google', '(direct)', 'Partners', 'youtube.com'],\n",
       "      dtype=object)"
      ]
     },
     "execution_count": 36,
     "metadata": {},
     "output_type": "execute_result"
    }
   ],
   "source": [
    "df['trafficSource'].unique()"
   ]
  },
  {
   "cell_type": "code",
   "execution_count": 37,
   "metadata": {},
   "outputs": [
    {
     "data": {
      "text/plain": [
       "<Axes: xlabel='trafficMedium', ylabel='count'>"
      ]
     },
     "execution_count": 37,
     "metadata": {},
     "output_type": "execute_result"
    },
    {
     "data": {
      "image/png": "[encoded data removed]",
      "text/plain": [
       "<Figure size 640x480 with 1 Axes>"
      ]
     },
     "metadata": {},
     "output_type": "display_data"
    }
   ],
   "source": [
    "sns.countplot(x=df['trafficMedium'],data=df)"
   ]
  },
  {
   "cell_type": "code",
   "execution_count": 38,
   "metadata": {},
   "outputs": [],
   "source": [
    "df['trafficMedium']=df['trafficMedium'].replace('(not set)',np.nan)"
   ]
  },
  {
   "cell_type": "code",
   "execution_count": 39,
   "metadata": {},
   "outputs": [
    {
     "data": {
      "text/plain": [
       "array(['organic', 'cpm', 'referral', nan, 'cpc', '(none)', 'affiliate'],\n",
       "      dtype=object)"
      ]
     },
     "execution_count": 39,
     "metadata": {},
     "output_type": "execute_result"
    }
   ],
   "source": [
    "df['trafficMedium'].unique()"
   ]
  },
  {
   "cell_type": "code",
   "execution_count": 40,
   "metadata": {},
   "outputs": [
    {
     "data": {
      "text/plain": [
       "trafficCampaign\n",
       "(not set)                             726507\n",
       "Data Share Promo                       13250\n",
       "AW - Dynamic Search Ads Whole Site      4570\n",
       "AW - Accessories                        3713\n",
       "AW - Electronics                          73\n",
       "AW - Apparel                              16\n",
       "All Products                               4\n",
       "Data Share                                 1\n",
       "Name: count, dtype: int64"
      ]
     },
     "execution_count": 40,
     "metadata": {},
     "output_type": "execute_result"
    }
   ],
   "source": [
    "df['trafficCampaign'].value_counts()\n",
    "#drop"
   ]
  },
  {
   "cell_type": "code",
   "execution_count": 41,
   "metadata": {},
   "outputs": [
    {
     "data": {
      "text/html": [
       "<div>\n",
       "<style scoped>\n",
       "    .dataframe tbody tr th:only-of-type {\n",
       "        vertical-align: middle;\n",
       "    }\n",
       "\n",
       "    .dataframe tbody tr th {\n",
       "        vertical-align: top;\n",
       "    }\n",
       "\n",
       "    .dataframe thead th {\n",
       "        text-align: right;\n",
       "    }\n",
       "</style>\n",
       "<table border=\"1\" class=\"dataframe\">\n",
       "  <thead>\n",
       "    <tr style=\"text-align: right;\">\n",
       "      <th></th>\n",
       "      <th>fullVisitorId</th>\n",
       "      <th>visitStartTime</th>\n",
       "      <th>date</th>\n",
       "      <th>deviceCategory</th>\n",
       "      <th>isMobile</th>\n",
       "      <th>operatingSystem</th>\n",
       "      <th>browser</th>\n",
       "      <th>country</th>\n",
       "      <th>city</th>\n",
       "      <th>trafficSource</th>\n",
       "      <th>trafficMedium</th>\n",
       "      <th>trafficCampaign</th>\n",
       "      <th>isFirstVisit</th>\n",
       "      <th>totalVisits</th>\n",
       "      <th>totalHits</th>\n",
       "      <th>totalPageviews</th>\n",
       "      <th>totalTimeOnSite</th>\n",
       "      <th>productPagesViewed</th>\n",
       "      <th>addedToCart</th>\n",
       "    </tr>\n",
       "  </thead>\n",
       "  <tbody>\n",
       "    <tr>\n",
       "      <th>0</th>\n",
       "      <td>4214259466202417480</td>\n",
       "      <td>1476492957</td>\n",
       "      <td>2016-10-14</td>\n",
       "      <td>desktop</td>\n",
       "      <td>False</td>\n",
       "      <td>Windows</td>\n",
       "      <td>Internet Explorer</td>\n",
       "      <td>United States</td>\n",
       "      <td>not available in demo dataset</td>\n",
       "      <td>others</td>\n",
       "      <td>organic</td>\n",
       "      <td>(not set)</td>\n",
       "      <td>0</td>\n",
       "      <td>1.0</td>\n",
       "      <td>2.0</td>\n",
       "      <td>2.0</td>\n",
       "      <td>16.0</td>\n",
       "      <td>0.0</td>\n",
       "      <td>0.0</td>\n",
       "    </tr>\n",
       "    <tr>\n",
       "      <th>1</th>\n",
       "      <td>3541738396641160713</td>\n",
       "      <td>1493611205</td>\n",
       "      <td>2017-04-30</td>\n",
       "      <td>desktop</td>\n",
       "      <td>False</td>\n",
       "      <td>Windows</td>\n",
       "      <td>Chrome</td>\n",
       "      <td>United States</td>\n",
       "      <td>not available in demo dataset</td>\n",
       "      <td>others</td>\n",
       "      <td>organic</td>\n",
       "      <td>(not set)</td>\n",
       "      <td>0</td>\n",
       "      <td>1.0</td>\n",
       "      <td>1.0</td>\n",
       "      <td>1.0</td>\n",
       "      <td>0.0</td>\n",
       "      <td>0.0</td>\n",
       "      <td>0.0</td>\n",
       "    </tr>\n",
       "    <tr>\n",
       "      <th>2</th>\n",
       "      <td>8276557623242379934</td>\n",
       "      <td>1490071147</td>\n",
       "      <td>2017-03-20</td>\n",
       "      <td>desktop</td>\n",
       "      <td>False</td>\n",
       "      <td>Windows</td>\n",
       "      <td>Chrome</td>\n",
       "      <td>Australia</td>\n",
       "      <td>Brisbane</td>\n",
       "      <td>others</td>\n",
       "      <td>organic</td>\n",
       "      <td>(not set)</td>\n",
       "      <td>0</td>\n",
       "      <td>1.0</td>\n",
       "      <td>2.0</td>\n",
       "      <td>2.0</td>\n",
       "      <td>16.0</td>\n",
       "      <td>0.0</td>\n",
       "      <td>0.0</td>\n",
       "    </tr>\n",
       "    <tr>\n",
       "      <th>3</th>\n",
       "      <td>5855313117666192014</td>\n",
       "      <td>1491048053</td>\n",
       "      <td>2017-04-01</td>\n",
       "      <td>desktop</td>\n",
       "      <td>False</td>\n",
       "      <td>Windows</td>\n",
       "      <td>Chrome</td>\n",
       "      <td>Australia</td>\n",
       "      <td>Sydney</td>\n",
       "      <td>others</td>\n",
       "      <td>organic</td>\n",
       "      <td>(not set)</td>\n",
       "      <td>0</td>\n",
       "      <td>1.0</td>\n",
       "      <td>1.0</td>\n",
       "      <td>1.0</td>\n",
       "      <td>0.0</td>\n",
       "      <td>0.0</td>\n",
       "      <td>0.0</td>\n",
       "    </tr>\n",
       "    <tr>\n",
       "      <th>4</th>\n",
       "      <td>2619633492044211273</td>\n",
       "      <td>1495292376</td>\n",
       "      <td>2017-05-20</td>\n",
       "      <td>desktop</td>\n",
       "      <td>False</td>\n",
       "      <td>Windows</td>\n",
       "      <td>Chrome</td>\n",
       "      <td>United States</td>\n",
       "      <td>not available in demo dataset</td>\n",
       "      <td>others</td>\n",
       "      <td>organic</td>\n",
       "      <td>(not set)</td>\n",
       "      <td>0</td>\n",
       "      <td>1.0</td>\n",
       "      <td>1.0</td>\n",
       "      <td>1.0</td>\n",
       "      <td>0.0</td>\n",
       "      <td>0.0</td>\n",
       "      <td>1.0</td>\n",
       "    </tr>\n",
       "  </tbody>\n",
       "</table>\n",
       "</div>"
      ],
      "text/plain": [
       "         fullVisitorId  visitStartTime        date deviceCategory  isMobile  \\\n",
       "0  4214259466202417480      1476492957  2016-10-14        desktop     False   \n",
       "1  3541738396641160713      1493611205  2017-04-30        desktop     False   \n",
       "2  8276557623242379934      1490071147  2017-03-20        desktop     False   \n",
       "3  5855313117666192014      1491048053  2017-04-01        desktop     False   \n",
       "4  2619633492044211273      1495292376  2017-05-20        desktop     False   \n",
       "\n",
       "  operatingSystem            browser        country  \\\n",
       "0         Windows  Internet Explorer  United States   \n",
       "1         Windows             Chrome  United States   \n",
       "2         Windows             Chrome      Australia   \n",
       "3         Windows             Chrome      Australia   \n",
       "4         Windows             Chrome  United States   \n",
       "\n",
       "                            city trafficSource trafficMedium trafficCampaign  \\\n",
       "0  not available in demo dataset        others       organic       (not set)   \n",
       "1  not available in demo dataset        others       organic       (not set)   \n",
       "2                       Brisbane        others       organic       (not set)   \n",
       "3                         Sydney        others       organic       (not set)   \n",
       "4  not available in demo dataset        others       organic       (not set)   \n",
       "\n",
       "   isFirstVisit  totalVisits  totalHits  totalPageviews  totalTimeOnSite  \\\n",
       "0             0          1.0        2.0             2.0             16.0   \n",
       "1             0          1.0        1.0             1.0              0.0   \n",
       "2             0          1.0        2.0             2.0             16.0   \n",
       "3             0          1.0        1.0             1.0              0.0   \n",
       "4             0          1.0        1.0             1.0              0.0   \n",
       "\n",
       "   productPagesViewed  addedToCart  \n",
       "0                 0.0          0.0  \n",
       "1                 0.0          0.0  \n",
       "2                 0.0          0.0  \n",
       "3                 0.0          0.0  \n",
       "4                 0.0          1.0  "
      ]
     },
     "execution_count": 41,
     "metadata": {},
     "output_type": "execute_result"
    }
   ],
   "source": [
    "df['date']=df['date'].apply(lambda x:x.split()[0])\n",
    "df.head()"
   ]
  },
  {
   "cell_type": "code",
   "execution_count": 42,
   "metadata": {},
   "outputs": [
    {
     "data": {
      "text/plain": [
       "{'type': 'dataframe', 'variable_name': 'df'}"
      ]
     },
     "execution_count": 42,
     "metadata": {},
     "output_type": "execute_result"
    }
   ],
   "source": [
    "df['date']=df['date'].apply(lambda x:x.split()[0])\n",
    "df\n",
    "{\"type\":\"dataframe\",\"variable_name\":\"df\"}\n",
    "df['date']=pd.to_datetime(df['date'])\n",
    "df['year'] = df['date'].dt.year\n",
    "df['month'] = df['date'].dt.month\n",
    "df['day'] = df['date'].dt.day\n",
    "df['day_of_week'] = df['date'].dt.dayofweek\n",
    "df['month_sin'] = np.sin(2 * np.pi * df['month'] / 12)\n",
    "df['month_cos'] = np.cos(2 * np.pi * df['month'] / 12)\n",
    "df['day_of_week_sin'] = np.sin(2 * np.pi * df['day_of_week'] / 7)\n",
    "df['day_of_week_cos'] = np.cos(2 * np.pi * df['day_of_week'] / 7)\n",
    "df['is_weekend'] = df['day_of_week'].apply(lambda x: 1 if x >= 5 else\n",
    "0)\n",
    "df\n",
    "{\"type\":\"dataframe\",\"variable_name\":\"df\"}\n",
    "\n"
   ]
  },
  {
   "cell_type": "code",
   "execution_count": 43,
   "metadata": {},
   "outputs": [
    {
     "data": {
      "text/plain": [
       "Index(['deviceCategory', 'operatingSystem', 'browser', 'country',\n",
       "       'trafficSource', 'trafficMedium', 'isFirstVisit', 'totalVisits',\n",
       "       'totalHits', 'totalPageviews', 'totalTimeOnSite', 'productPagesViewed',\n",
       "       'addedToCart', 'year', 'month', 'day', 'day_of_week', 'month_sin',\n",
       "       'month_cos', 'day_of_week_sin', 'day_of_week_cos', 'is_weekend'],\n",
       "      dtype='object')"
      ]
     },
     "execution_count": 43,
     "metadata": {},
     "output_type": "execute_result"
    }
   ],
   "source": [
    "#drop unwanted columns\n",
    "df.drop(columns=['fullVisitorId','visitStartTime','date','city','trafficCampaign','isMobile'],axis=1,inplace=True)\n",
    "\n",
    "df\n",
    "{\"type\":\"dataframe\",\"variable_name\":\"df\"}\n",
    "df.columns"
   ]
  },
  {
   "cell_type": "code",
   "execution_count": 44,
   "metadata": {},
   "outputs": [],
   "source": [
    "columns_to_encode = ['browser','operatingSystem','country','trafficMedium','deviceCategory','trafficSource']\n",
    "label_encoders = {}\n",
    "\n",
    "for column in columns_to_encode:\n",
    "    # Initialize the label encoder\n",
    "    le = LabelEncoder()\n",
    "    # Fit and transform the column\n",
    "    df[column] = le.fit_transform(df[column])\n",
    "    # Store the label encoder in the dictionary\n",
    "    label_encoders[column] = le"
   ]
  },
  {
   "cell_type": "code",
   "execution_count": 45,
   "metadata": {},
   "outputs": [
    {
     "name": "stdout",
     "output_type": "stream",
     "text": [
      "\n",
      "Category to Label Mapping for browser:\n",
      "{'Android Webview': 0, 'Chrome': 1, 'Edge': 2, 'Firefox': 3, 'Internet Explorer': 4, 'Opera': 5, 'Opera Mini': 6, 'Safari': 7, 'Safari (in-app)': 8, 'UC Browser': 9, 'YaBrowser': 10, 'others': 11, nan: 12}\n",
      "\n",
      "Category to Label Mapping for operatingSystem:\n",
      "{'Android': 0, 'Chrome OS': 1, 'Linux': 2, 'Macintosh': 3, 'Windows': 4, 'iOS': 5, 'others': 6, nan: 7}\n",
      "\n",
      "Category to Label Mapping for country:\n",
      "{'Australia': 0, 'Brazil': 1, 'Canada': 2, 'France': 3, 'Germany': 4, 'India': 5, 'Indonesia': 6, 'Ireland': 7, 'Italy': 8, 'Japan': 9, 'Malaysia': 10, 'Mexico': 11, 'Netherlands': 12, 'Philippines': 13, 'Poland': 14, 'Romania': 15, 'Russia': 16, 'Singapore': 17, 'Spain': 18, 'Taiwan': 19, 'Thailand': 20, 'Turkey': 21, 'United Kingdom': 22, 'United States': 23, 'Vietnam': 24, 'others': 25}\n",
      "\n",
      "Category to Label Mapping for trafficMedium:\n",
      "{'(none)': 0, 'affiliate': 1, 'cpc': 2, 'cpm': 3, 'organic': 4, 'referral': 5, nan: 6}\n",
      "\n",
      "Category to Label Mapping for deviceCategory:\n",
      "{'desktop': 0, 'mobile': 1, 'tablet': 2}\n",
      "\n",
      "Category to Label Mapping for trafficSource:\n",
      "{'(direct)': 0, 'Partners': 1, 'google': 2, 'others': 3, 'youtube.com': 4}\n"
     ]
    }
   ],
   "source": [
    "for column in columns_to_encode:\n",
    "    mapping = dict(zip(label_encoders[column].classes_, label_encoders[column].transform(label_encoders[column].classes_)))\n",
    "    print(f\"\\nCategory to Label Mapping for {column}:\")\n",
    "    print(mapping)"
   ]
  },
  {
   "cell_type": "code",
   "execution_count": 46,
   "metadata": {},
   "outputs": [
    {
     "data": {
      "text/html": [
       "<div>\n",
       "<style scoped>\n",
       "    .dataframe tbody tr th:only-of-type {\n",
       "        vertical-align: middle;\n",
       "    }\n",
       "\n",
       "    .dataframe tbody tr th {\n",
       "        vertical-align: top;\n",
       "    }\n",
       "\n",
       "    .dataframe thead th {\n",
       "        text-align: right;\n",
       "    }\n",
       "</style>\n",
       "<table border=\"1\" class=\"dataframe\">\n",
       "  <thead>\n",
       "    <tr style=\"text-align: right;\">\n",
       "      <th></th>\n",
       "      <th>deviceCategory</th>\n",
       "      <th>operatingSystem</th>\n",
       "      <th>browser</th>\n",
       "      <th>country</th>\n",
       "      <th>trafficSource</th>\n",
       "      <th>trafficMedium</th>\n",
       "      <th>isFirstVisit</th>\n",
       "      <th>totalVisits</th>\n",
       "      <th>totalHits</th>\n",
       "      <th>totalPageviews</th>\n",
       "      <th>...</th>\n",
       "      <th>addedToCart</th>\n",
       "      <th>year</th>\n",
       "      <th>month</th>\n",
       "      <th>day</th>\n",
       "      <th>day_of_week</th>\n",
       "      <th>month_sin</th>\n",
       "      <th>month_cos</th>\n",
       "      <th>day_of_week_sin</th>\n",
       "      <th>day_of_week_cos</th>\n",
       "      <th>is_weekend</th>\n",
       "    </tr>\n",
       "  </thead>\n",
       "  <tbody>\n",
       "    <tr>\n",
       "      <th>0</th>\n",
       "      <td>0</td>\n",
       "      <td>4</td>\n",
       "      <td>4</td>\n",
       "      <td>23</td>\n",
       "      <td>3</td>\n",
       "      <td>4</td>\n",
       "      <td>0</td>\n",
       "      <td>1.0</td>\n",
       "      <td>2.0</td>\n",
       "      <td>2.0</td>\n",
       "      <td>...</td>\n",
       "      <td>0.0</td>\n",
       "      <td>2016</td>\n",
       "      <td>10</td>\n",
       "      <td>14</td>\n",
       "      <td>4</td>\n",
       "      <td>-0.866025</td>\n",
       "      <td>5.000000e-01</td>\n",
       "      <td>-0.433884</td>\n",
       "      <td>-0.900969</td>\n",
       "      <td>0</td>\n",
       "    </tr>\n",
       "    <tr>\n",
       "      <th>1</th>\n",
       "      <td>0</td>\n",
       "      <td>4</td>\n",
       "      <td>1</td>\n",
       "      <td>23</td>\n",
       "      <td>3</td>\n",
       "      <td>4</td>\n",
       "      <td>0</td>\n",
       "      <td>1.0</td>\n",
       "      <td>1.0</td>\n",
       "      <td>1.0</td>\n",
       "      <td>...</td>\n",
       "      <td>0.0</td>\n",
       "      <td>2017</td>\n",
       "      <td>4</td>\n",
       "      <td>30</td>\n",
       "      <td>6</td>\n",
       "      <td>0.866025</td>\n",
       "      <td>-5.000000e-01</td>\n",
       "      <td>-0.781831</td>\n",
       "      <td>0.623490</td>\n",
       "      <td>1</td>\n",
       "    </tr>\n",
       "    <tr>\n",
       "      <th>2</th>\n",
       "      <td>0</td>\n",
       "      <td>4</td>\n",
       "      <td>1</td>\n",
       "      <td>0</td>\n",
       "      <td>3</td>\n",
       "      <td>4</td>\n",
       "      <td>0</td>\n",
       "      <td>1.0</td>\n",
       "      <td>2.0</td>\n",
       "      <td>2.0</td>\n",
       "      <td>...</td>\n",
       "      <td>0.0</td>\n",
       "      <td>2017</td>\n",
       "      <td>3</td>\n",
       "      <td>20</td>\n",
       "      <td>0</td>\n",
       "      <td>1.000000</td>\n",
       "      <td>6.123234e-17</td>\n",
       "      <td>0.000000</td>\n",
       "      <td>1.000000</td>\n",
       "      <td>0</td>\n",
       "    </tr>\n",
       "    <tr>\n",
       "      <th>3</th>\n",
       "      <td>0</td>\n",
       "      <td>4</td>\n",
       "      <td>1</td>\n",
       "      <td>0</td>\n",
       "      <td>3</td>\n",
       "      <td>4</td>\n",
       "      <td>0</td>\n",
       "      <td>1.0</td>\n",
       "      <td>1.0</td>\n",
       "      <td>1.0</td>\n",
       "      <td>...</td>\n",
       "      <td>0.0</td>\n",
       "      <td>2017</td>\n",
       "      <td>4</td>\n",
       "      <td>1</td>\n",
       "      <td>5</td>\n",
       "      <td>0.866025</td>\n",
       "      <td>-5.000000e-01</td>\n",
       "      <td>-0.974928</td>\n",
       "      <td>-0.222521</td>\n",
       "      <td>1</td>\n",
       "    </tr>\n",
       "    <tr>\n",
       "      <th>4</th>\n",
       "      <td>0</td>\n",
       "      <td>4</td>\n",
       "      <td>1</td>\n",
       "      <td>23</td>\n",
       "      <td>3</td>\n",
       "      <td>4</td>\n",
       "      <td>0</td>\n",
       "      <td>1.0</td>\n",
       "      <td>1.0</td>\n",
       "      <td>1.0</td>\n",
       "      <td>...</td>\n",
       "      <td>1.0</td>\n",
       "      <td>2017</td>\n",
       "      <td>5</td>\n",
       "      <td>20</td>\n",
       "      <td>5</td>\n",
       "      <td>0.500000</td>\n",
       "      <td>-8.660254e-01</td>\n",
       "      <td>-0.974928</td>\n",
       "      <td>-0.222521</td>\n",
       "      <td>1</td>\n",
       "    </tr>\n",
       "    <tr>\n",
       "      <th>...</th>\n",
       "      <td>...</td>\n",
       "      <td>...</td>\n",
       "      <td>...</td>\n",
       "      <td>...</td>\n",
       "      <td>...</td>\n",
       "      <td>...</td>\n",
       "      <td>...</td>\n",
       "      <td>...</td>\n",
       "      <td>...</td>\n",
       "      <td>...</td>\n",
       "      <td>...</td>\n",
       "      <td>...</td>\n",
       "      <td>...</td>\n",
       "      <td>...</td>\n",
       "      <td>...</td>\n",
       "      <td>...</td>\n",
       "      <td>...</td>\n",
       "      <td>...</td>\n",
       "      <td>...</td>\n",
       "      <td>...</td>\n",
       "      <td>...</td>\n",
       "    </tr>\n",
       "    <tr>\n",
       "      <th>748129</th>\n",
       "      <td>0</td>\n",
       "      <td>4</td>\n",
       "      <td>4</td>\n",
       "      <td>2</td>\n",
       "      <td>3</td>\n",
       "      <td>5</td>\n",
       "      <td>1</td>\n",
       "      <td>1.0</td>\n",
       "      <td>6.0</td>\n",
       "      <td>5.0</td>\n",
       "      <td>...</td>\n",
       "      <td>1.0</td>\n",
       "      <td>2017</td>\n",
       "      <td>5</td>\n",
       "      <td>29</td>\n",
       "      <td>0</td>\n",
       "      <td>0.500000</td>\n",
       "      <td>-8.660254e-01</td>\n",
       "      <td>0.000000</td>\n",
       "      <td>1.000000</td>\n",
       "      <td>0</td>\n",
       "    </tr>\n",
       "    <tr>\n",
       "      <th>748130</th>\n",
       "      <td>0</td>\n",
       "      <td>4</td>\n",
       "      <td>1</td>\n",
       "      <td>25</td>\n",
       "      <td>3</td>\n",
       "      <td>5</td>\n",
       "      <td>1</td>\n",
       "      <td>1.0</td>\n",
       "      <td>1.0</td>\n",
       "      <td>1.0</td>\n",
       "      <td>...</td>\n",
       "      <td>1.0</td>\n",
       "      <td>2017</td>\n",
       "      <td>5</td>\n",
       "      <td>4</td>\n",
       "      <td>3</td>\n",
       "      <td>0.500000</td>\n",
       "      <td>-8.660254e-01</td>\n",
       "      <td>0.433884</td>\n",
       "      <td>-0.900969</td>\n",
       "      <td>0</td>\n",
       "    </tr>\n",
       "    <tr>\n",
       "      <th>748131</th>\n",
       "      <td>0</td>\n",
       "      <td>3</td>\n",
       "      <td>1</td>\n",
       "      <td>23</td>\n",
       "      <td>3</td>\n",
       "      <td>5</td>\n",
       "      <td>1</td>\n",
       "      <td>1.0</td>\n",
       "      <td>1.0</td>\n",
       "      <td>1.0</td>\n",
       "      <td>...</td>\n",
       "      <td>0.0</td>\n",
       "      <td>2016</td>\n",
       "      <td>10</td>\n",
       "      <td>22</td>\n",
       "      <td>5</td>\n",
       "      <td>-0.866025</td>\n",
       "      <td>5.000000e-01</td>\n",
       "      <td>-0.974928</td>\n",
       "      <td>-0.222521</td>\n",
       "      <td>1</td>\n",
       "    </tr>\n",
       "    <tr>\n",
       "      <th>748132</th>\n",
       "      <td>0</td>\n",
       "      <td>3</td>\n",
       "      <td>3</td>\n",
       "      <td>23</td>\n",
       "      <td>3</td>\n",
       "      <td>5</td>\n",
       "      <td>1</td>\n",
       "      <td>1.0</td>\n",
       "      <td>1.0</td>\n",
       "      <td>1.0</td>\n",
       "      <td>...</td>\n",
       "      <td>0.0</td>\n",
       "      <td>2017</td>\n",
       "      <td>2</td>\n",
       "      <td>19</td>\n",
       "      <td>6</td>\n",
       "      <td>0.866025</td>\n",
       "      <td>5.000000e-01</td>\n",
       "      <td>-0.781831</td>\n",
       "      <td>0.623490</td>\n",
       "      <td>1</td>\n",
       "    </tr>\n",
       "    <tr>\n",
       "      <th>748133</th>\n",
       "      <td>0</td>\n",
       "      <td>3</td>\n",
       "      <td>7</td>\n",
       "      <td>23</td>\n",
       "      <td>3</td>\n",
       "      <td>5</td>\n",
       "      <td>1</td>\n",
       "      <td>1.0</td>\n",
       "      <td>1.0</td>\n",
       "      <td>1.0</td>\n",
       "      <td>...</td>\n",
       "      <td>NaN</td>\n",
       "      <td>2017</td>\n",
       "      <td>2</td>\n",
       "      <td>19</td>\n",
       "      <td>6</td>\n",
       "      <td>0.866025</td>\n",
       "      <td>5.000000e-01</td>\n",
       "      <td>-0.781831</td>\n",
       "      <td>0.623490</td>\n",
       "      <td>1</td>\n",
       "    </tr>\n",
       "  </tbody>\n",
       "</table>\n",
       "<p>748134 rows × 22 columns</p>\n",
       "</div>"
      ],
      "text/plain": [
       "        deviceCategory  operatingSystem  browser  country  trafficSource  \\\n",
       "0                    0                4        4       23              3   \n",
       "1                    0                4        1       23              3   \n",
       "2                    0                4        1        0              3   \n",
       "3                    0                4        1        0              3   \n",
       "4                    0                4        1       23              3   \n",
       "...                ...              ...      ...      ...            ...   \n",
       "748129               0                4        4        2              3   \n",
       "748130               0                4        1       25              3   \n",
       "748131               0                3        1       23              3   \n",
       "748132               0                3        3       23              3   \n",
       "748133               0                3        7       23              3   \n",
       "\n",
       "        trafficMedium  isFirstVisit  totalVisits  totalHits  totalPageviews  \\\n",
       "0                   4             0          1.0        2.0             2.0   \n",
       "1                   4             0          1.0        1.0             1.0   \n",
       "2                   4             0          1.0        2.0             2.0   \n",
       "3                   4             0          1.0        1.0             1.0   \n",
       "4                   4             0          1.0        1.0             1.0   \n",
       "...               ...           ...          ...        ...             ...   \n",
       "748129              5             1          1.0        6.0             5.0   \n",
       "748130              5             1          1.0        1.0             1.0   \n",
       "748131              5             1          1.0        1.0             1.0   \n",
       "748132              5             1          1.0        1.0             1.0   \n",
       "748133              5             1          1.0        1.0             1.0   \n",
       "\n",
       "        ...  addedToCart  year  month  day  day_of_week  month_sin  \\\n",
       "0       ...          0.0  2016     10   14            4  -0.866025   \n",
       "1       ...          0.0  2017      4   30            6   0.866025   \n",
       "2       ...          0.0  2017      3   20            0   1.000000   \n",
       "3       ...          0.0  2017      4    1            5   0.866025   \n",
       "4       ...          1.0  2017      5   20            5   0.500000   \n",
       "...     ...          ...   ...    ...  ...          ...        ...   \n",
       "748129  ...          1.0  2017      5   29            0   0.500000   \n",
       "748130  ...          1.0  2017      5    4            3   0.500000   \n",
       "748131  ...          0.0  2016     10   22            5  -0.866025   \n",
       "748132  ...          0.0  2017      2   19            6   0.866025   \n",
       "748133  ...          NaN  2017      2   19            6   0.866025   \n",
       "\n",
       "           month_cos  day_of_week_sin  day_of_week_cos  is_weekend  \n",
       "0       5.000000e-01        -0.433884        -0.900969           0  \n",
       "1      -5.000000e-01        -0.781831         0.623490           1  \n",
       "2       6.123234e-17         0.000000         1.000000           0  \n",
       "3      -5.000000e-01        -0.974928        -0.222521           1  \n",
       "4      -8.660254e-01        -0.974928        -0.222521           1  \n",
       "...              ...              ...              ...         ...  \n",
       "748129 -8.660254e-01         0.000000         1.000000           0  \n",
       "748130 -8.660254e-01         0.433884        -0.900969           0  \n",
       "748131  5.000000e-01        -0.974928        -0.222521           1  \n",
       "748132  5.000000e-01        -0.781831         0.623490           1  \n",
       "748133  5.000000e-01        -0.781831         0.623490           1  \n",
       "\n",
       "[748134 rows x 22 columns]"
      ]
     },
     "execution_count": 46,
     "metadata": {},
     "output_type": "execute_result"
    }
   ],
   "source": [
    "df"
   ]
  },
  {
   "cell_type": "code",
   "execution_count": 47,
   "metadata": {},
   "outputs": [
    {
     "data": {
      "text/plain": [
       "deviceCategory          int32\n",
       "operatingSystem         int32\n",
       "browser                 int32\n",
       "country                 int32\n",
       "trafficSource           int32\n",
       "trafficMedium           int32\n",
       "isFirstVisit            int64\n",
       "totalVisits           float64\n",
       "totalHits             float64\n",
       "totalPageviews        float64\n",
       "totalTimeOnSite       float64\n",
       "productPagesViewed    float64\n",
       "addedToCart           float64\n",
       "year                    int32\n",
       "month                   int32\n",
       "day                     int32\n",
       "day_of_week             int32\n",
       "month_sin             float64\n",
       "month_cos             float64\n",
       "day_of_week_sin       float64\n",
       "day_of_week_cos       float64\n",
       "is_weekend              int64\n",
       "dtype: object"
      ]
     },
     "execution_count": 47,
     "metadata": {},
     "output_type": "execute_result"
    }
   ],
   "source": [
    "\n",
    "df['operatingSystem']=df['operatingSystem'].astype(int)\n",
    "df['browser']=df['browser'].astype(int)\n",
    "df['country']=df['country'].astype(int)\n",
    "df['trafficMedium']=df['trafficMedium'].astype(int)\n",
    "df.dtypes"
   ]
  },
  {
   "cell_type": "code",
   "execution_count": 48,
   "metadata": {},
   "outputs": [
    {
     "data": {
      "text/plain": [
       "addedToCart\n",
       "0.0    707179\n",
       "1.0     40954\n",
       "Name: count, dtype: int64"
      ]
     },
     "execution_count": 48,
     "metadata": {},
     "output_type": "execute_result"
    }
   ],
   "source": [
    "df['addedToCart'].value_counts()"
   ]
  },
  {
   "cell_type": "code",
   "execution_count": 53,
   "metadata": {},
   "outputs": [
    {
     "data": {
      "text/html": [
       "<div>\n",
       "<style scoped>\n",
       "    .dataframe tbody tr th:only-of-type {\n",
       "        vertical-align: middle;\n",
       "    }\n",
       "\n",
       "    .dataframe tbody tr th {\n",
       "        vertical-align: top;\n",
       "    }\n",
       "\n",
       "    .dataframe thead th {\n",
       "        text-align: right;\n",
       "    }\n",
       "</style>\n",
       "<table border=\"1\" class=\"dataframe\">\n",
       "  <thead>\n",
       "    <tr style=\"text-align: right;\">\n",
       "      <th></th>\n",
       "      <th>deviceCategory</th>\n",
       "      <th>operatingSystem</th>\n",
       "      <th>browser</th>\n",
       "      <th>country</th>\n",
       "      <th>trafficSource</th>\n",
       "      <th>trafficMedium</th>\n",
       "      <th>isFirstVisit</th>\n",
       "      <th>totalVisits</th>\n",
       "      <th>totalHits</th>\n",
       "      <th>totalPageviews</th>\n",
       "      <th>...</th>\n",
       "      <th>productPagesViewed</th>\n",
       "      <th>year</th>\n",
       "      <th>month</th>\n",
       "      <th>day</th>\n",
       "      <th>day_of_week</th>\n",
       "      <th>month_sin</th>\n",
       "      <th>month_cos</th>\n",
       "      <th>day_of_week_sin</th>\n",
       "      <th>day_of_week_cos</th>\n",
       "      <th>is_weekend</th>\n",
       "    </tr>\n",
       "  </thead>\n",
       "  <tbody>\n",
       "    <tr>\n",
       "      <th>0</th>\n",
       "      <td>0</td>\n",
       "      <td>4</td>\n",
       "      <td>4</td>\n",
       "      <td>23</td>\n",
       "      <td>3</td>\n",
       "      <td>4</td>\n",
       "      <td>0</td>\n",
       "      <td>1.0</td>\n",
       "      <td>2.0</td>\n",
       "      <td>2.0</td>\n",
       "      <td>...</td>\n",
       "      <td>0.0</td>\n",
       "      <td>2016</td>\n",
       "      <td>10</td>\n",
       "      <td>14</td>\n",
       "      <td>4</td>\n",
       "      <td>-0.866025</td>\n",
       "      <td>5.000000e-01</td>\n",
       "      <td>-0.433884</td>\n",
       "      <td>-0.900969</td>\n",
       "      <td>0</td>\n",
       "    </tr>\n",
       "    <tr>\n",
       "      <th>1</th>\n",
       "      <td>0</td>\n",
       "      <td>4</td>\n",
       "      <td>1</td>\n",
       "      <td>23</td>\n",
       "      <td>3</td>\n",
       "      <td>4</td>\n",
       "      <td>0</td>\n",
       "      <td>1.0</td>\n",
       "      <td>1.0</td>\n",
       "      <td>1.0</td>\n",
       "      <td>...</td>\n",
       "      <td>0.0</td>\n",
       "      <td>2017</td>\n",
       "      <td>4</td>\n",
       "      <td>30</td>\n",
       "      <td>6</td>\n",
       "      <td>0.866025</td>\n",
       "      <td>-5.000000e-01</td>\n",
       "      <td>-0.781831</td>\n",
       "      <td>0.623490</td>\n",
       "      <td>1</td>\n",
       "    </tr>\n",
       "    <tr>\n",
       "      <th>2</th>\n",
       "      <td>0</td>\n",
       "      <td>4</td>\n",
       "      <td>1</td>\n",
       "      <td>0</td>\n",
       "      <td>3</td>\n",
       "      <td>4</td>\n",
       "      <td>0</td>\n",
       "      <td>1.0</td>\n",
       "      <td>2.0</td>\n",
       "      <td>2.0</td>\n",
       "      <td>...</td>\n",
       "      <td>0.0</td>\n",
       "      <td>2017</td>\n",
       "      <td>3</td>\n",
       "      <td>20</td>\n",
       "      <td>0</td>\n",
       "      <td>1.000000</td>\n",
       "      <td>6.123234e-17</td>\n",
       "      <td>0.000000</td>\n",
       "      <td>1.000000</td>\n",
       "      <td>0</td>\n",
       "    </tr>\n",
       "    <tr>\n",
       "      <th>3</th>\n",
       "      <td>0</td>\n",
       "      <td>4</td>\n",
       "      <td>1</td>\n",
       "      <td>0</td>\n",
       "      <td>3</td>\n",
       "      <td>4</td>\n",
       "      <td>0</td>\n",
       "      <td>1.0</td>\n",
       "      <td>1.0</td>\n",
       "      <td>1.0</td>\n",
       "      <td>...</td>\n",
       "      <td>0.0</td>\n",
       "      <td>2017</td>\n",
       "      <td>4</td>\n",
       "      <td>1</td>\n",
       "      <td>5</td>\n",
       "      <td>0.866025</td>\n",
       "      <td>-5.000000e-01</td>\n",
       "      <td>-0.974928</td>\n",
       "      <td>-0.222521</td>\n",
       "      <td>1</td>\n",
       "    </tr>\n",
       "    <tr>\n",
       "      <th>4</th>\n",
       "      <td>0</td>\n",
       "      <td>4</td>\n",
       "      <td>1</td>\n",
       "      <td>23</td>\n",
       "      <td>3</td>\n",
       "      <td>4</td>\n",
       "      <td>0</td>\n",
       "      <td>1.0</td>\n",
       "      <td>1.0</td>\n",
       "      <td>1.0</td>\n",
       "      <td>...</td>\n",
       "      <td>0.0</td>\n",
       "      <td>2017</td>\n",
       "      <td>5</td>\n",
       "      <td>20</td>\n",
       "      <td>5</td>\n",
       "      <td>0.500000</td>\n",
       "      <td>-8.660254e-01</td>\n",
       "      <td>-0.974928</td>\n",
       "      <td>-0.222521</td>\n",
       "      <td>1</td>\n",
       "    </tr>\n",
       "    <tr>\n",
       "      <th>...</th>\n",
       "      <td>...</td>\n",
       "      <td>...</td>\n",
       "      <td>...</td>\n",
       "      <td>...</td>\n",
       "      <td>...</td>\n",
       "      <td>...</td>\n",
       "      <td>...</td>\n",
       "      <td>...</td>\n",
       "      <td>...</td>\n",
       "      <td>...</td>\n",
       "      <td>...</td>\n",
       "      <td>...</td>\n",
       "      <td>...</td>\n",
       "      <td>...</td>\n",
       "      <td>...</td>\n",
       "      <td>...</td>\n",
       "      <td>...</td>\n",
       "      <td>...</td>\n",
       "      <td>...</td>\n",
       "      <td>...</td>\n",
       "      <td>...</td>\n",
       "    </tr>\n",
       "    <tr>\n",
       "      <th>748128</th>\n",
       "      <td>0</td>\n",
       "      <td>4</td>\n",
       "      <td>1</td>\n",
       "      <td>24</td>\n",
       "      <td>3</td>\n",
       "      <td>5</td>\n",
       "      <td>1</td>\n",
       "      <td>1.0</td>\n",
       "      <td>6.0</td>\n",
       "      <td>6.0</td>\n",
       "      <td>...</td>\n",
       "      <td>0.0</td>\n",
       "      <td>2016</td>\n",
       "      <td>9</td>\n",
       "      <td>22</td>\n",
       "      <td>3</td>\n",
       "      <td>-1.000000</td>\n",
       "      <td>-1.836970e-16</td>\n",
       "      <td>0.433884</td>\n",
       "      <td>-0.900969</td>\n",
       "      <td>0</td>\n",
       "    </tr>\n",
       "    <tr>\n",
       "      <th>748129</th>\n",
       "      <td>0</td>\n",
       "      <td>4</td>\n",
       "      <td>4</td>\n",
       "      <td>2</td>\n",
       "      <td>3</td>\n",
       "      <td>5</td>\n",
       "      <td>1</td>\n",
       "      <td>1.0</td>\n",
       "      <td>6.0</td>\n",
       "      <td>5.0</td>\n",
       "      <td>...</td>\n",
       "      <td>0.0</td>\n",
       "      <td>2017</td>\n",
       "      <td>5</td>\n",
       "      <td>29</td>\n",
       "      <td>0</td>\n",
       "      <td>0.500000</td>\n",
       "      <td>-8.660254e-01</td>\n",
       "      <td>0.000000</td>\n",
       "      <td>1.000000</td>\n",
       "      <td>0</td>\n",
       "    </tr>\n",
       "    <tr>\n",
       "      <th>748130</th>\n",
       "      <td>0</td>\n",
       "      <td>4</td>\n",
       "      <td>1</td>\n",
       "      <td>25</td>\n",
       "      <td>3</td>\n",
       "      <td>5</td>\n",
       "      <td>1</td>\n",
       "      <td>1.0</td>\n",
       "      <td>1.0</td>\n",
       "      <td>1.0</td>\n",
       "      <td>...</td>\n",
       "      <td>0.0</td>\n",
       "      <td>2017</td>\n",
       "      <td>5</td>\n",
       "      <td>4</td>\n",
       "      <td>3</td>\n",
       "      <td>0.500000</td>\n",
       "      <td>-8.660254e-01</td>\n",
       "      <td>0.433884</td>\n",
       "      <td>-0.900969</td>\n",
       "      <td>0</td>\n",
       "    </tr>\n",
       "    <tr>\n",
       "      <th>748131</th>\n",
       "      <td>0</td>\n",
       "      <td>3</td>\n",
       "      <td>1</td>\n",
       "      <td>23</td>\n",
       "      <td>3</td>\n",
       "      <td>5</td>\n",
       "      <td>1</td>\n",
       "      <td>1.0</td>\n",
       "      <td>1.0</td>\n",
       "      <td>1.0</td>\n",
       "      <td>...</td>\n",
       "      <td>0.0</td>\n",
       "      <td>2016</td>\n",
       "      <td>10</td>\n",
       "      <td>22</td>\n",
       "      <td>5</td>\n",
       "      <td>-0.866025</td>\n",
       "      <td>5.000000e-01</td>\n",
       "      <td>-0.974928</td>\n",
       "      <td>-0.222521</td>\n",
       "      <td>1</td>\n",
       "    </tr>\n",
       "    <tr>\n",
       "      <th>748132</th>\n",
       "      <td>0</td>\n",
       "      <td>3</td>\n",
       "      <td>3</td>\n",
       "      <td>23</td>\n",
       "      <td>3</td>\n",
       "      <td>5</td>\n",
       "      <td>1</td>\n",
       "      <td>1.0</td>\n",
       "      <td>1.0</td>\n",
       "      <td>1.0</td>\n",
       "      <td>...</td>\n",
       "      <td>0.0</td>\n",
       "      <td>2017</td>\n",
       "      <td>2</td>\n",
       "      <td>19</td>\n",
       "      <td>6</td>\n",
       "      <td>0.866025</td>\n",
       "      <td>5.000000e-01</td>\n",
       "      <td>-0.781831</td>\n",
       "      <td>0.623490</td>\n",
       "      <td>1</td>\n",
       "    </tr>\n",
       "  </tbody>\n",
       "</table>\n",
       "<p>748133 rows × 21 columns</p>\n",
       "</div>"
      ],
      "text/plain": [
       "        deviceCategory  operatingSystem  browser  country  trafficSource  \\\n",
       "0                    0                4        4       23              3   \n",
       "1                    0                4        1       23              3   \n",
       "2                    0                4        1        0              3   \n",
       "3                    0                4        1        0              3   \n",
       "4                    0                4        1       23              3   \n",
       "...                ...              ...      ...      ...            ...   \n",
       "748128               0                4        1       24              3   \n",
       "748129               0                4        4        2              3   \n",
       "748130               0                4        1       25              3   \n",
       "748131               0                3        1       23              3   \n",
       "748132               0                3        3       23              3   \n",
       "\n",
       "        trafficMedium  isFirstVisit  totalVisits  totalHits  totalPageviews  \\\n",
       "0                   4             0          1.0        2.0             2.0   \n",
       "1                   4             0          1.0        1.0             1.0   \n",
       "2                   4             0          1.0        2.0             2.0   \n",
       "3                   4             0          1.0        1.0             1.0   \n",
       "4                   4             0          1.0        1.0             1.0   \n",
       "...               ...           ...          ...        ...             ...   \n",
       "748128              5             1          1.0        6.0             6.0   \n",
       "748129              5             1          1.0        6.0             5.0   \n",
       "748130              5             1          1.0        1.0             1.0   \n",
       "748131              5             1          1.0        1.0             1.0   \n",
       "748132              5             1          1.0        1.0             1.0   \n",
       "\n",
       "        ...  productPagesViewed  year  month  day  day_of_week  month_sin  \\\n",
       "0       ...                 0.0  2016     10   14            4  -0.866025   \n",
       "1       ...                 0.0  2017      4   30            6   0.866025   \n",
       "2       ...                 0.0  2017      3   20            0   1.000000   \n",
       "3       ...                 0.0  2017      4    1            5   0.866025   \n",
       "4       ...                 0.0  2017      5   20            5   0.500000   \n",
       "...     ...                 ...   ...    ...  ...          ...        ...   \n",
       "748128  ...                 0.0  2016      9   22            3  -1.000000   \n",
       "748129  ...                 0.0  2017      5   29            0   0.500000   \n",
       "748130  ...                 0.0  2017      5    4            3   0.500000   \n",
       "748131  ...                 0.0  2016     10   22            5  -0.866025   \n",
       "748132  ...                 0.0  2017      2   19            6   0.866025   \n",
       "\n",
       "           month_cos  day_of_week_sin  day_of_week_cos  is_weekend  \n",
       "0       5.000000e-01        -0.433884        -0.900969           0  \n",
       "1      -5.000000e-01        -0.781831         0.623490           1  \n",
       "2       6.123234e-17         0.000000         1.000000           0  \n",
       "3      -5.000000e-01        -0.974928        -0.222521           1  \n",
       "4      -8.660254e-01        -0.974928        -0.222521           1  \n",
       "...              ...              ...              ...         ...  \n",
       "748128 -1.836970e-16         0.433884        -0.900969           0  \n",
       "748129 -8.660254e-01         0.000000         1.000000           0  \n",
       "748130 -8.660254e-01         0.433884        -0.900969           0  \n",
       "748131  5.000000e-01        -0.974928        -0.222521           1  \n",
       "748132  5.000000e-01        -0.781831         0.623490           1  \n",
       "\n",
       "[748133 rows x 21 columns]"
      ]
     },
     "execution_count": 53,
     "metadata": {},
     "output_type": "execute_result"
    }
   ],
   "source": [
    "x=df.drop(columns=['addedToCart'],axis=1)\n",
    "y=df['addedToCart']\n",
    "x=x.values\n",
    "y=y.values\n",
    "x"
   ]
  },
  {
   "cell_type": "code",
   "execution_count": 50,
   "metadata": {},
   "outputs": [
    {
     "data": {
      "text/plain": [
       "deviceCategory        0\n",
       "operatingSystem       0\n",
       "browser               0\n",
       "country               0\n",
       "trafficSource         0\n",
       "trafficMedium         0\n",
       "isFirstVisit          0\n",
       "totalVisits           0\n",
       "totalHits             0\n",
       "totalPageviews        0\n",
       "totalTimeOnSite       0\n",
       "productPagesViewed    0\n",
       "addedToCart           0\n",
       "year                  0\n",
       "month                 0\n",
       "day                   0\n",
       "day_of_week           0\n",
       "month_sin             0\n",
       "month_cos             0\n",
       "day_of_week_sin       0\n",
       "day_of_week_cos       0\n",
       "is_weekend            0\n",
       "dtype: int64"
      ]
     },
     "execution_count": 50,
     "metadata": {},
     "output_type": "execute_result"
    }
   ],
   "source": [
    "df=df.dropna()\n",
    "df.isna().sum()"
   ]
  },
  {
   "cell_type": "code",
   "execution_count": 51,
   "metadata": {},
   "outputs": [
    {
     "data": {
      "text/plain": [
       "<Axes: xlabel='addedToCart', ylabel='count'>"
      ]
     },
     "execution_count": 51,
     "metadata": {},
     "output_type": "execute_result"
    },
    {
     "data": {
      "image/png": "[encoded data removed]",
      "text/plain": [
       "<Figure size 640x480 with 1 Axes>"
      ]
     },
     "metadata": {},
     "output_type": "display_data"
    }
   ],
   "source": [
    "sns.countplot(df,x=df['addedToCart'])"
   ]
  },
  {
   "cell_type": "code",
   "execution_count": 54,
   "metadata": {},
   "outputs": [],
   "source": [
    "from imblearn.over_sampling import SMOTE\n",
    "smote=SMOTE(random_state=42)\n",
    "x_resampled,y_resampled=smote.fit_resample(x,y)"
   ]
  },
  {
   "cell_type": "code",
   "execution_count": 55,
   "metadata": {},
   "outputs": [],
   "source": [
    "from sklearn.model_selection import train_test_split\n",
    "x_train,x_test,y_train,y_test=train_test_split(x_resampled,y_resampled\n",
    ",test_size=0.30,random_state=42)"
   ]
  },
  {
   "cell_type": "code",
   "execution_count": 56,
   "metadata": {},
   "outputs": [
    {
     "data": {
      "text/plain": [
       "array([[-0.46379126, -0.74639128, -0.51603025, ...,  1.27189469,\n",
       "        -0.29622932, -0.47465969],\n",
       "       [ 1.74983315, -2.18337663, -0.51603025, ...,  1.27189469,\n",
       "        -0.29622932, -0.47465969],\n",
       "       [-0.46379126, -0.74639128, -0.51603025, ...,  1.27189469,\n",
       "        -0.29622932, -0.47465969],\n",
       "       ...,\n",
       "       [-0.46379126,  0.69059407, -0.51603025, ...,  0.98209826,\n",
       "         0.90007448, -0.47465969],\n",
       "       [-0.46379126,  0.69059407, -0.51603025, ...,  0.45990314,\n",
       "        -1.25559048, -0.47465969],\n",
       "       [-0.46379126, -0.02789861, -0.51603025, ...,  0.98209826,\n",
       "         0.90007448, -0.47465969]])"
      ]
     },
     "execution_count": 56,
     "metadata": {},
     "output_type": "execute_result"
    }
   ],
   "source": [
    "from sklearn.preprocessing import StandardScaler\n",
    "scalar=StandardScaler()\n",
    "scalar.fit(x_train)\n",
    "x_train=scalar.transform(x_train)\n",
    "x_test=scalar.transform(x_test)\n",
    "x_train"
   ]
  },
  {
   "cell_type": "code",
   "execution_count": 57,
   "metadata": {},
   "outputs": [],
   "source": [
    "from sklearn.tree import DecisionTreeClassifier\n",
    "model=DecisionTreeClassifier()\n",
    "model.fit(x_train,y_train)\n",
    "y_pred=model.predict(x_test)"
   ]
  },
  {
   "cell_type": "code",
   "execution_count": 58,
   "metadata": {},
   "outputs": [
    {
     "name": "stdout",
     "output_type": "stream",
     "text": [
      "              precision    recall  f1-score   support\n",
      "\n",
      "         0.0       0.95      0.88      0.91    211947\n",
      "         1.0       0.89      0.95      0.92    212361\n",
      "\n",
      "    accuracy                           0.91    424308\n",
      "   macro avg       0.92      0.91      0.91    424308\n",
      "weighted avg       0.92      0.91      0.91    424308\n",
      "\n"
     ]
    }
   ],
   "source": [
    "from sklearn.metrics import classification_report\n",
    "report=classification_report(y_test,y_pred)\n",
    "print(report)"
   ]
  },
  {
   "cell_type": "code",
   "execution_count": 59,
   "metadata": {},
   "outputs": [
    {
     "data": {
      "text/plain": [
       "['model.pkl']"
      ]
     },
     "execution_count": 59,
     "metadata": {},
     "output_type": "execute_result"
    }
   ],
   "source": [
    "import joblib\n",
    "joblib.dump(model, 'model.pkl')"
   ]
  },
  {
   "cell_type": "code",
   "execution_count": 61,
   "metadata": {},
   "outputs": [
    {
     "name": "stdout",
     "output_type": "stream",
     "text": [
      "^C\n"
     ]
    }
   ],
   "source": [
    "!streamlit run app1.py"
   ]
  }
 ],
 "metadata": {
  "kernelspec": {
   "display_name": "Python 3",
   "language": "python",
   "name": "python3"
  },
  "language_info": {
   "codemirror_mode": {
    "name": "ipython",
    "version": 3
   },
   "file_extension": ".py",
   "mimetype": "text/x-python",
   "name": "python",
   "nbconvert_exporter": "python",
   "pygments_lexer": "ipython3",
   "version": "3.12.1"
  }
 },
 "nbformat": 4,
 "nbformat_minor": 2
}
